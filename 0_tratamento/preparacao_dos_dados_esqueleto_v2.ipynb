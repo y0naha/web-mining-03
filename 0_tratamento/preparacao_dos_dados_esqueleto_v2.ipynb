{
  "cells": [
    {
      "cell_type": "markdown",
      "metadata": {
        "id": "zCrOM9PBUD9n"
      },
      "source": [
        "# Importando as bibliotecas"
      ]
    },
    {
      "cell_type": "code",
      "execution_count": 1,
      "metadata": {
        "id": "95s4x45JUD9r"
      },
      "outputs": [],
      "source": [
        "import pandas as pd\n",
        "import plotly.express as px\n",
        "import missingno as msno"
      ]
    },
    {
      "cell_type": "markdown",
      "metadata": {
        "id": "tIonp_wfUD9t"
      },
      "source": [
        "# Importando as bases de dados"
      ]
    },
    {
      "attachments": {},
      "cell_type": "markdown",
      "metadata": {
        "id": "Y3WlvR5nUD9t"
      },
      "source": [
        "## Base de dados\n",
        "\n",
        "Base de dados loja de jogos on-line."
      ]
    },
    {
      "cell_type": "code",
      "execution_count": 2,
      "metadata": {
        "id": "eQdgzuEPUD9x",
        "outputId": "a7c8eeb8-f055-42de-fe88-dcff4ff30c31"
      },
      "outputs": [],
      "source": [
        "dados = pd.DataFrame(pd.read_csv(\"../1_bases_originais/original.csv\"))"
      ]
    },
    {
      "cell_type": "code",
      "execution_count": 3,
      "metadata": {},
      "outputs": [
        {
          "data": {
            "text/html": [
              "<div>\n",
              "<style scoped>\n",
              "    .dataframe tbody tr th:only-of-type {\n",
              "        vertical-align: middle;\n",
              "    }\n",
              "\n",
              "    .dataframe tbody tr th {\n",
              "        vertical-align: top;\n",
              "    }\n",
              "\n",
              "    .dataframe thead th {\n",
              "        text-align: right;\n",
              "    }\n",
              "</style>\n",
              "<table border=\"1\" class=\"dataframe\">\n",
              "  <thead>\n",
              "    <tr style=\"text-align: right;\">\n",
              "      <th></th>\n",
              "      <th>nome</th>\n",
              "      <th>porcentagem_desconto</th>\n",
              "      <th>preço</th>\n",
              "      <th>tipo</th>\n",
              "      <th>sistema</th>\n",
              "    </tr>\n",
              "  </thead>\n",
              "  <tbody>\n",
              "    <tr>\n",
              "      <th>0</th>\n",
              "      <td>Darkest Dungeon</td>\n",
              "      <td>0</td>\n",
              "      <td>R$ 45,99</td>\n",
              "      <td>Padrão</td>\n",
              "      <td>steam,windows,linux,mac</td>\n",
              "    </tr>\n",
              "    <tr>\n",
              "      <th>1</th>\n",
              "      <td>Star Wars Empire at War - Gold Pack</td>\n",
              "      <td>0</td>\n",
              "      <td>Indisponivel</td>\n",
              "      <td>Padrão</td>\n",
              "      <td>steam,windows</td>\n",
              "    </tr>\n",
              "    <tr>\n",
              "      <th>2</th>\n",
              "      <td>RESIDENT EVIL 2 / BIOHAZARD RE:2 - DELUXE EDITION</td>\n",
              "      <td>-76%</td>\n",
              "      <td>R$ 25,99</td>\n",
              "      <td>Padrão</td>\n",
              "      <td>steam,windows</td>\n",
              "    </tr>\n",
              "    <tr>\n",
              "      <th>3</th>\n",
              "      <td>Enter the Gungeon</td>\n",
              "      <td>0</td>\n",
              "      <td>R$ 27,99</td>\n",
              "      <td>Padrão</td>\n",
              "      <td>steam,windows,linux,mac</td>\n",
              "    </tr>\n",
              "    <tr>\n",
              "      <th>4</th>\n",
              "      <td>RESIDENT EVIL 7 biohazard Gold Edition</td>\n",
              "      <td>-75%</td>\n",
              "      <td>R$ 20,99</td>\n",
              "      <td>Padrão</td>\n",
              "      <td>steam,windows</td>\n",
              "    </tr>\n",
              "    <tr>\n",
              "      <th>...</th>\n",
              "      <td>...</td>\n",
              "      <td>...</td>\n",
              "      <td>...</td>\n",
              "      <td>...</td>\n",
              "      <td>...</td>\n",
              "    </tr>\n",
              "    <tr>\n",
              "      <th>95</th>\n",
              "      <td>Riot Points - Gift Card Digital 50 Reais</td>\n",
              "      <td>0</td>\n",
              "      <td>R$ 50,00</td>\n",
              "      <td>Padrão</td>\n",
              "      <td>windows,mac</td>\n",
              "    </tr>\n",
              "    <tr>\n",
              "      <th>96</th>\n",
              "      <td>Hotline Miami</td>\n",
              "      <td>0</td>\n",
              "      <td>R$ 16,99</td>\n",
              "      <td>Padrão</td>\n",
              "      <td>steam,windows,linux,mac</td>\n",
              "    </tr>\n",
              "    <tr>\n",
              "      <th>97</th>\n",
              "      <td>Men of War: Assault Squad 2 - War Chest Edition</td>\n",
              "      <td>-77%</td>\n",
              "      <td>R$ 32,04</td>\n",
              "      <td>Padrão</td>\n",
              "      <td>steam,windows</td>\n",
              "    </tr>\n",
              "    <tr>\n",
              "      <th>98</th>\n",
              "      <td>NARUTO SHIPPUDEN: Ultimate Ninja STORM 4 - Roa...</td>\n",
              "      <td>0</td>\n",
              "      <td>R$ 122,16</td>\n",
              "      <td>Padrão</td>\n",
              "      <td>steam,windows</td>\n",
              "    </tr>\n",
              "    <tr>\n",
              "      <th>99</th>\n",
              "      <td>Naruto Shippuden: Ultimate Ninja Storm 4</td>\n",
              "      <td>0</td>\n",
              "      <td>R$ 97,00</td>\n",
              "      <td>Padrão</td>\n",
              "      <td>steam,windows</td>\n",
              "    </tr>\n",
              "  </tbody>\n",
              "</table>\n",
              "<p>100 rows × 5 columns</p>\n",
              "</div>"
            ],
            "text/plain": [
              "                                                 nome porcentagem_desconto  \\\n",
              "0                                     Darkest Dungeon                    0   \n",
              "1                 Star Wars Empire at War - Gold Pack                    0   \n",
              "2   RESIDENT EVIL 2 / BIOHAZARD RE:2 - DELUXE EDITION                 -76%   \n",
              "3                                   Enter the Gungeon                    0   \n",
              "4              RESIDENT EVIL 7 biohazard Gold Edition                 -75%   \n",
              "..                                                ...                  ...   \n",
              "95           Riot Points - Gift Card Digital 50 Reais                    0   \n",
              "96                                      Hotline Miami                    0   \n",
              "97    Men of War: Assault Squad 2 - War Chest Edition                 -77%   \n",
              "98  NARUTO SHIPPUDEN: Ultimate Ninja STORM 4 - Roa...                    0   \n",
              "99           Naruto Shippuden: Ultimate Ninja Storm 4                    0   \n",
              "\n",
              "           preço    tipo                  sistema  \n",
              "0       R$ 45,99  Padrão  steam,windows,linux,mac  \n",
              "1   Indisponivel  Padrão            steam,windows  \n",
              "2       R$ 25,99  Padrão            steam,windows  \n",
              "3       R$ 27,99  Padrão  steam,windows,linux,mac  \n",
              "4       R$ 20,99  Padrão            steam,windows  \n",
              "..           ...     ...                      ...  \n",
              "95      R$ 50,00  Padrão              windows,mac  \n",
              "96      R$ 16,99  Padrão  steam,windows,linux,mac  \n",
              "97      R$ 32,04  Padrão            steam,windows  \n",
              "98     R$ 122,16  Padrão            steam,windows  \n",
              "99      R$ 97,00  Padrão            steam,windows  \n",
              "\n",
              "[100 rows x 5 columns]"
            ]
          },
          "execution_count": 3,
          "metadata": {},
          "output_type": "execute_result"
        }
      ],
      "source": [
        "dados"
      ]
    },
    {
      "cell_type": "code",
      "execution_count": 4,
      "metadata": {
        "id": "FfBaJC4_UD9x",
        "outputId": "54f2be87-0ab8-40b5-b9b6-e8d8bc2bc85e"
      },
      "outputs": [
        {
          "data": {
            "text/plain": [
              "(100, 5)"
            ]
          },
          "execution_count": 4,
          "metadata": {},
          "output_type": "execute_result"
        }
      ],
      "source": [
        "# verificando o tamanho da base em linhas e colunas\n",
        "dados.shape"
      ]
    },
    {
      "cell_type": "markdown",
      "metadata": {
        "id": "RgZDahgnUD9y"
      },
      "source": [
        "# Primeiros tratamentos"
      ]
    },
    {
      "cell_type": "markdown",
      "metadata": {
        "id": "fQNgwCNZUD9y"
      },
      "source": [
        "## Resetando o index e eliminando os duplicados"
      ]
    },
    {
      "cell_type": "code",
      "execution_count": 5,
      "metadata": {
        "id": "tdpEj27SUD9y",
        "outputId": "a580b20c-aa57-4920-8f51-38a2d1501554"
      },
      "outputs": [
        {
          "data": {
            "text/plain": [
              "0     1\n",
              "63    1\n",
              "73    1\n",
              "72    1\n",
              "71    1\n",
              "     ..\n",
              "30    1\n",
              "29    1\n",
              "28    1\n",
              "27    1\n",
              "99    1\n",
              "Length: 100, dtype: int64"
            ]
          },
          "execution_count": 5,
          "metadata": {},
          "output_type": "execute_result"
        }
      ],
      "source": [
        "dados.index.value_counts()"
      ]
    },
    {
      "cell_type": "code",
      "execution_count": 6,
      "metadata": {
        "id": "eXjCpJGuUD9z",
        "outputId": "0dd3b99f-9eb8-4936-9226-e5f0e8d641ef"
      },
      "outputs": [
        {
          "data": {
            "text/plain": [
              "0     1\n",
              "63    1\n",
              "73    1\n",
              "72    1\n",
              "71    1\n",
              "     ..\n",
              "30    1\n",
              "29    1\n",
              "28    1\n",
              "27    1\n",
              "99    1\n",
              "Length: 100, dtype: int64"
            ]
          },
          "execution_count": 6,
          "metadata": {},
          "output_type": "execute_result"
        }
      ],
      "source": [
        "dados.reset_index(drop=True).index.value_counts()"
      ]
    },
    {
      "cell_type": "code",
      "execution_count": 7,
      "metadata": {
        "id": "l9H79DObUD9z",
        "outputId": "c824e26d-dc5c-477e-c1e6-c452a39a95ce"
      },
      "outputs": [
        {
          "data": {
            "text/plain": [
              "0"
            ]
          },
          "execution_count": 7,
          "metadata": {},
          "output_type": "execute_result"
        }
      ],
      "source": [
        "dados.duplicated().sum()"
      ]
    },
    {
      "cell_type": "code",
      "execution_count": 8,
      "metadata": {
        "id": "yZXazjhDUD9z"
      },
      "outputs": [
        {
          "data": {
            "text/html": [
              "<div>\n",
              "<style scoped>\n",
              "    .dataframe tbody tr th:only-of-type {\n",
              "        vertical-align: middle;\n",
              "    }\n",
              "\n",
              "    .dataframe tbody tr th {\n",
              "        vertical-align: top;\n",
              "    }\n",
              "\n",
              "    .dataframe thead th {\n",
              "        text-align: right;\n",
              "    }\n",
              "</style>\n",
              "<table border=\"1\" class=\"dataframe\">\n",
              "  <thead>\n",
              "    <tr style=\"text-align: right;\">\n",
              "      <th></th>\n",
              "      <th>nome</th>\n",
              "      <th>porcentagem_desconto</th>\n",
              "      <th>preço</th>\n",
              "      <th>tipo</th>\n",
              "      <th>sistema</th>\n",
              "    </tr>\n",
              "  </thead>\n",
              "  <tbody>\n",
              "  </tbody>\n",
              "</table>\n",
              "</div>"
            ],
            "text/plain": [
              "Empty DataFrame\n",
              "Columns: [nome, porcentagem_desconto, preço, tipo, sistema]\n",
              "Index: []"
            ]
          },
          "execution_count": 8,
          "metadata": {},
          "output_type": "execute_result"
        }
      ],
      "source": [
        "dados.loc[dados.nome.duplicated()==True]"
      ]
    },
    {
      "cell_type": "code",
      "execution_count": 9,
      "metadata": {
        "id": "AG0-ZCVKUD9z",
        "outputId": "5a576f05-34c3-4e4a-fc98-171091262437"
      },
      "outputs": [
        {
          "data": {
            "text/plain": [
              "(100, 5)"
            ]
          },
          "execution_count": 9,
          "metadata": {},
          "output_type": "execute_result"
        }
      ],
      "source": [
        "# criando um novo objeto dados, resetando o index do objeto anterior e eliminando duplicados\n",
        "dados = dados.reset_index(drop=True).drop_duplicates()\n",
        "dados.shape"
      ]
    },
    {
      "cell_type": "markdown",
      "metadata": {
        "id": "LRUyDmrUUD90"
      },
      "source": [
        "## Retirando variáveis\n",
        "\n",
        "No pandas, utilizamos o comando .drop para eliminar as colunas que não pretendemos trabalhar."
      ]
    },
    {
      "cell_type": "code",
      "execution_count": 10,
      "metadata": {
        "id": "Q_B9AnhkUD90"
      },
      "outputs": [],
      "source": [
        "#Não será necessário remoção de colunas"
      ]
    },
    {
      "cell_type": "markdown",
      "metadata": {
        "id": "kQRUrdcOUD90"
      },
      "source": [
        "## Editando os nomes das colunas"
      ]
    },
    {
      "cell_type": "markdown",
      "metadata": {
        "id": "sG_VPvzPUD90"
      },
      "source": [
        "### Nomes das colunas em minusculo"
      ]
    },
    {
      "cell_type": "code",
      "execution_count": 11,
      "metadata": {
        "id": "HRD8WPWJUD90",
        "outputId": "83a3f97c-05f8-45f9-e3f5-c7e23cc8f85f"
      },
      "outputs": [
        {
          "data": {
            "text/plain": [
              "Index(['nome', 'porcentagem_desconto', 'preço', 'tipo', 'sistema'], dtype='object')"
            ]
          },
          "execution_count": 11,
          "metadata": {},
          "output_type": "execute_result"
        }
      ],
      "source": [
        "dados.columns"
      ]
    },
    {
      "cell_type": "code",
      "execution_count": 12,
      "metadata": {
        "id": "bbth0O0RUD91"
      },
      "outputs": [],
      "source": [
        "dados.columns = dados.columns.str.lower()"
      ]
    },
    {
      "cell_type": "markdown",
      "metadata": {
        "id": "uEdkwKDUUD91"
      },
      "source": [
        "### Substituindo caracteres especiais das colunas"
      ]
    },
    {
      "cell_type": "code",
      "execution_count": 13,
      "metadata": {
        "id": "26EznS_qUD91"
      },
      "outputs": [],
      "source": [
        "dados.columns = dados.columns.str.replace('ç', 'c')"
      ]
    },
    {
      "cell_type": "code",
      "execution_count": 14,
      "metadata": {
        "id": "GyT9iAVZUD91",
        "outputId": "da4b39a8-e0d3-4064-ec3b-e70ae9a560c0"
      },
      "outputs": [
        {
          "data": {
            "text/plain": [
              "Index(['nome', 'porcentagem_desconto', 'preco', 'tipo', 'sistema'], dtype='object')"
            ]
          },
          "execution_count": 14,
          "metadata": {},
          "output_type": "execute_result"
        }
      ],
      "source": [
        "dados.columns"
      ]
    },
    {
      "cell_type": "markdown",
      "metadata": {
        "id": "YKGeg9bkUD91"
      },
      "source": [
        "### Substituindo caracteres especiais das linhas de colunas específicas"
      ]
    },
    {
      "cell_type": "code",
      "execution_count": 15,
      "metadata": {
        "id": "_BbymMu4UD92",
        "outputId": "8e45ae0d-11a7-471a-f668-093ad70976aa"
      },
      "outputs": [
        {
          "name": "stderr",
          "output_type": "stream",
          "text": [
            "C:\\Users\\ionaf\\AppData\\Local\\Temp\\ipykernel_16140\\1570654488.py:1: FutureWarning: The default value of regex will change from True to False in a future version.\n",
            "  dados.preco=dados.preco.str.replace('\\W','')\n"
          ]
        }
      ],
      "source": [
        "dados.preco=dados.preco.str.replace('\\W','')\n",
        "dados.preco=dados.preco.str.replace('R','')"
      ]
    },
    {
      "cell_type": "markdown",
      "metadata": {
        "id": "ZAJD7HDPUD92"
      },
      "source": [
        "### Substituindo caracteres especiais de toda a base de dados"
      ]
    },
    {
      "cell_type": "code",
      "execution_count": 16,
      "metadata": {
        "id": "jcx_lqgUUD92"
      },
      "outputs": [],
      "source": [
        "dados = dados.replace({'á':'a','ã':'a', 'â':'a', 'í':'i',\n",
        "                ':' : '',\n",
        "                '-' : '',\n",
        "                \"’\" : \"\",\n",
        "                \"'\" : \"\",\n",
        "                \"/\" : \"\",\n",
        "                \"%\" : \"\",\n",
        "                'ÅŸ':'s',\n",
        "                'Ä°':'I',\n",
        "                'Ä±':'i',\n",
        "                'Ã¶':'o',\n",
        "                'Ã§':'c',\n",
        "                'ÄŸ':'g',\n",
        "                'Ã¼':'u',\n",
        "                'Ã©':'e',\n",
        "                'Ã¡':'a',\n",
        "                'Ã³':'o',\n",
        "                'Ã±':'nh',\n",
        "                '&':'',\n",
        "                'Ã…Ë†':'n',\n",
        "                'Ã§':'c',\n",
        "                'Ã­':'i',\n",
        "                'Ã£':'a',\n",
        "                'Ãº':'u',\n",
        "                'Ã':'a',\n",
        "                'Ãª':'e',\n",
        "                'Ã‘':'N',\n",
        "                'aÂ¢':'a',\n",
        "                'aÂª':'e',\n",
        "                'aÂ':'a',\n",
        "                \"á\":\"a\",\n",
        "                \"é\":\"e\",\n",
        "                \"í\":\"i\",\n",
        "                \"ó\":\"o\",\n",
        "                \"ú\":\"u\",\n",
        "                \"ã\":\"a\",\n",
        "                \"õ\":\"o\",\n",
        "                \"aª\":\"e\",\n",
        "                \"á\":\"a\",\n",
        "                \"é\":\"e\",\n",
        "                \"í\":\"i\",\n",
        "                \"ó\":\"o\",\n",
        "                \"ú\":\"u\",\n",
        "                \"ã\":\"a\",\n",
        "                \"õ\":\"o\",\n",
        "                \"ê\":\"e\",\n",
        "                \"â\":\"a\",\n",
        "                \"ô\":\"o\",\n",
        "                \"ê\":\"e\",\n",
        "                \"â\":\"a\",\n",
        "                \"ô\":\"o\"               \n",
        "              }, regex=True)"
      ]
    },
    {
      "attachments": {},
      "cell_type": "markdown",
      "metadata": {},
      "source": [
        "## Convertendo preços para númerico"
      ]
    },
    {
      "cell_type": "code",
      "execution_count": 18,
      "metadata": {},
      "outputs": [],
      "source": [
        "dados.preco = pd.to_numeric(dados.preco, errors='coerce')"
      ]
    },
    {
      "attachments": {},
      "cell_type": "markdown",
      "metadata": {},
      "source": [
        "## Dados Missing"
      ]
    },
    {
      "cell_type": "code",
      "execution_count": 19,
      "metadata": {},
      "outputs": [
        {
          "data": {
            "text/plain": [
              "<Axes: >"
            ]
          },
          "execution_count": 19,
          "metadata": {},
          "output_type": "execute_result"
        },
        {
          "data": {
            "image/png": "[encoded data removed]",
            "text/plain": [
              "<Figure size 2500x1000 with 2 Axes>"
            ]
          },
          "metadata": {},
          "output_type": "display_data"
        }
      ],
      "source": [
        "msno.matrix(dados)"
      ]
    },
    {
      "cell_type": "code",
      "execution_count": 20,
      "metadata": {},
      "outputs": [
        {
          "data": {
            "text/plain": [
              "<Axes: >"
            ]
          },
          "execution_count": 20,
          "metadata": {},
          "output_type": "execute_result"
        },
        {
          "data": {
            "image/png": "[encoded data removed]",
            "text/plain": [
              "<Figure size 2500x1000 with 3 Axes>"
            ]
          },
          "metadata": {},
          "output_type": "display_data"
        }
      ],
      "source": [
        "msno.bar(dados)"
      ]
    },
    {
      "attachments": {},
      "cell_type": "markdown",
      "metadata": {},
      "source": [
        "### Justificativa da remoção de dados nulos\n",
        "Em análise dos dados, entendemos que os itens que retornaram indisponíveis da raspagem de dados, não fariam sentido serem expostos ou estarem contidos na base tratada."
      ]
    },
    {
      "cell_type": "code",
      "execution_count": 21,
      "metadata": {},
      "outputs": [
        {
          "data": {
            "text/plain": [
              "nome                    0\n",
              "porcentagem_desconto    0\n",
              "preco                   0\n",
              "tipo                    0\n",
              "sistema                 0\n",
              "dtype: int64"
            ]
          },
          "execution_count": 21,
          "metadata": {},
          "output_type": "execute_result"
        }
      ],
      "source": [
        "dados = dados.dropna()\n",
        "dados.isna().sum()"
      ]
    },
    {
      "attachments": {},
      "cell_type": "markdown",
      "metadata": {},
      "source": [
        "### Resetando index"
      ]
    },
    {
      "cell_type": "code",
      "execution_count": 22,
      "metadata": {},
      "outputs": [
        {
          "data": {
            "text/html": [
              "<div>\n",
              "<style scoped>\n",
              "    .dataframe tbody tr th:only-of-type {\n",
              "        vertical-align: middle;\n",
              "    }\n",
              "\n",
              "    .dataframe tbody tr th {\n",
              "        vertical-align: top;\n",
              "    }\n",
              "\n",
              "    .dataframe thead th {\n",
              "        text-align: right;\n",
              "    }\n",
              "</style>\n",
              "<table border=\"1\" class=\"dataframe\">\n",
              "  <thead>\n",
              "    <tr style=\"text-align: right;\">\n",
              "      <th></th>\n",
              "      <th>nome</th>\n",
              "      <th>porcentagem_desconto</th>\n",
              "      <th>preco</th>\n",
              "      <th>tipo</th>\n",
              "      <th>sistema</th>\n",
              "    </tr>\n",
              "  </thead>\n",
              "  <tbody>\n",
              "    <tr>\n",
              "      <th>0</th>\n",
              "      <td>Darkest Dungeon</td>\n",
              "      <td>0</td>\n",
              "      <td>4599.0</td>\n",
              "      <td>Padrao</td>\n",
              "      <td>steam,windows,linux,mac</td>\n",
              "    </tr>\n",
              "    <tr>\n",
              "      <th>1</th>\n",
              "      <td>RESIDENT EVIL 2  BIOHAZARD RE2  DELUXE EDITION</td>\n",
              "      <td>76</td>\n",
              "      <td>2599.0</td>\n",
              "      <td>Padrao</td>\n",
              "      <td>steam,windows</td>\n",
              "    </tr>\n",
              "    <tr>\n",
              "      <th>2</th>\n",
              "      <td>Enter the Gungeon</td>\n",
              "      <td>0</td>\n",
              "      <td>2799.0</td>\n",
              "      <td>Padrao</td>\n",
              "      <td>steam,windows,linux,mac</td>\n",
              "    </tr>\n",
              "    <tr>\n",
              "      <th>3</th>\n",
              "      <td>RESIDENT EVIL 7 biohazard Gold Edition</td>\n",
              "      <td>75</td>\n",
              "      <td>2099.0</td>\n",
              "      <td>Padrao</td>\n",
              "      <td>steam,windows</td>\n",
              "    </tr>\n",
              "    <tr>\n",
              "      <th>4</th>\n",
              "      <td>LEGO Harry Potter Years 1 4</td>\n",
              "      <td>0</td>\n",
              "      <td>8999.0</td>\n",
              "      <td>Padrao</td>\n",
              "      <td>steam,windows</td>\n",
              "    </tr>\n",
              "    <tr>\n",
              "      <th>...</th>\n",
              "      <td>...</td>\n",
              "      <td>...</td>\n",
              "      <td>...</td>\n",
              "      <td>...</td>\n",
              "      <td>...</td>\n",
              "    </tr>\n",
              "    <tr>\n",
              "      <th>91</th>\n",
              "      <td>Riot Points  Gift Card Digital 50 Reais</td>\n",
              "      <td>0</td>\n",
              "      <td>5000.0</td>\n",
              "      <td>Padrao</td>\n",
              "      <td>windows,mac</td>\n",
              "    </tr>\n",
              "    <tr>\n",
              "      <th>92</th>\n",
              "      <td>Hotline Miami</td>\n",
              "      <td>0</td>\n",
              "      <td>1699.0</td>\n",
              "      <td>Padrao</td>\n",
              "      <td>steam,windows,linux,mac</td>\n",
              "    </tr>\n",
              "    <tr>\n",
              "      <th>93</th>\n",
              "      <td>Men of War Assault Squad 2  War Chest Edition</td>\n",
              "      <td>77</td>\n",
              "      <td>3204.0</td>\n",
              "      <td>Padrao</td>\n",
              "      <td>steam,windows</td>\n",
              "    </tr>\n",
              "    <tr>\n",
              "      <th>94</th>\n",
              "      <td>NARUTO SHIPPUDEN Ultimate Ninja STORM 4  Road ...</td>\n",
              "      <td>0</td>\n",
              "      <td>12216.0</td>\n",
              "      <td>Padrao</td>\n",
              "      <td>steam,windows</td>\n",
              "    </tr>\n",
              "    <tr>\n",
              "      <th>95</th>\n",
              "      <td>Naruto Shippuden Ultimate Ninja Storm 4</td>\n",
              "      <td>0</td>\n",
              "      <td>9700.0</td>\n",
              "      <td>Padrao</td>\n",
              "      <td>steam,windows</td>\n",
              "    </tr>\n",
              "  </tbody>\n",
              "</table>\n",
              "<p>96 rows × 5 columns</p>\n",
              "</div>"
            ],
            "text/plain": [
              "                                                 nome porcentagem_desconto  \\\n",
              "0                                     Darkest Dungeon                    0   \n",
              "1      RESIDENT EVIL 2  BIOHAZARD RE2  DELUXE EDITION                   76   \n",
              "2                                   Enter the Gungeon                    0   \n",
              "3              RESIDENT EVIL 7 biohazard Gold Edition                   75   \n",
              "4                         LEGO Harry Potter Years 1 4                    0   \n",
              "..                                                ...                  ...   \n",
              "91            Riot Points  Gift Card Digital 50 Reais                    0   \n",
              "92                                      Hotline Miami                    0   \n",
              "93      Men of War Assault Squad 2  War Chest Edition                   77   \n",
              "94  NARUTO SHIPPUDEN Ultimate Ninja STORM 4  Road ...                    0   \n",
              "95            Naruto Shippuden Ultimate Ninja Storm 4                    0   \n",
              "\n",
              "      preco    tipo                  sistema  \n",
              "0    4599.0  Padrao  steam,windows,linux,mac  \n",
              "1    2599.0  Padrao            steam,windows  \n",
              "2    2799.0  Padrao  steam,windows,linux,mac  \n",
              "3    2099.0  Padrao            steam,windows  \n",
              "4    8999.0  Padrao            steam,windows  \n",
              "..      ...     ...                      ...  \n",
              "91   5000.0  Padrao              windows,mac  \n",
              "92   1699.0  Padrao  steam,windows,linux,mac  \n",
              "93   3204.0  Padrao            steam,windows  \n",
              "94  12216.0  Padrao            steam,windows  \n",
              "95   9700.0  Padrao            steam,windows  \n",
              "\n",
              "[96 rows x 5 columns]"
            ]
          },
          "execution_count": 22,
          "metadata": {},
          "output_type": "execute_result"
        }
      ],
      "source": [
        "dados = dados.reset_index(drop=True)\n",
        "dados"
      ]
    },
    {
      "attachments": {},
      "cell_type": "markdown",
      "metadata": {},
      "source": [
        "### Transformando o preço para valor monetário"
      ]
    },
    {
      "cell_type": "code",
      "execution_count": 23,
      "metadata": {},
      "outputs": [
        {
          "data": {
            "text/plain": [
              "0      45.99\n",
              "1      25.99\n",
              "2      27.99\n",
              "3      20.99\n",
              "4      89.99\n",
              "       ...  \n",
              "91     50.00\n",
              "92     16.99\n",
              "93     32.04\n",
              "94    122.16\n",
              "95     97.00\n",
              "Name: preco, Length: 96, dtype: float64"
            ]
          },
          "execution_count": 23,
          "metadata": {},
          "output_type": "execute_result"
        }
      ],
      "source": [
        "dados['preco'] = dados['preco'].div(100)\n",
        "dados.preco"
      ]
    },
    {
      "attachments": {},
      "cell_type": "markdown",
      "metadata": {},
      "source": [
        "## Tranformando texto para lower case e criando padrão de uso"
      ]
    },
    {
      "cell_type": "code",
      "execution_count": 24,
      "metadata": {
        "id": "6FNi7ZobUD93"
      },
      "outputs": [
        {
          "data": {
            "text/html": [
              "<div>\n",
              "<style scoped>\n",
              "    .dataframe tbody tr th:only-of-type {\n",
              "        vertical-align: middle;\n",
              "    }\n",
              "\n",
              "    .dataframe tbody tr th {\n",
              "        vertical-align: top;\n",
              "    }\n",
              "\n",
              "    .dataframe thead th {\n",
              "        text-align: right;\n",
              "    }\n",
              "</style>\n",
              "<table border=\"1\" class=\"dataframe\">\n",
              "  <thead>\n",
              "    <tr style=\"text-align: right;\">\n",
              "      <th></th>\n",
              "      <th>nome</th>\n",
              "      <th>porcentagem_desconto</th>\n",
              "      <th>preco</th>\n",
              "      <th>tipo</th>\n",
              "      <th>sistema</th>\n",
              "    </tr>\n",
              "  </thead>\n",
              "  <tbody>\n",
              "    <tr>\n",
              "      <th>0</th>\n",
              "      <td>darkest dungeon</td>\n",
              "      <td>0</td>\n",
              "      <td>45.99</td>\n",
              "      <td>padrao</td>\n",
              "      <td>steam,windows,linux,mac</td>\n",
              "    </tr>\n",
              "    <tr>\n",
              "      <th>1</th>\n",
              "      <td>resident evil 2  biohazard re2  deluxe edition</td>\n",
              "      <td>76</td>\n",
              "      <td>25.99</td>\n",
              "      <td>padrao</td>\n",
              "      <td>steam,windows</td>\n",
              "    </tr>\n",
              "    <tr>\n",
              "      <th>2</th>\n",
              "      <td>enter the gungeon</td>\n",
              "      <td>0</td>\n",
              "      <td>27.99</td>\n",
              "      <td>padrao</td>\n",
              "      <td>steam,windows,linux,mac</td>\n",
              "    </tr>\n",
              "    <tr>\n",
              "      <th>3</th>\n",
              "      <td>resident evil 7 biohazard gold edition</td>\n",
              "      <td>75</td>\n",
              "      <td>20.99</td>\n",
              "      <td>padrao</td>\n",
              "      <td>steam,windows</td>\n",
              "    </tr>\n",
              "    <tr>\n",
              "      <th>4</th>\n",
              "      <td>lego harry potter years 1 4</td>\n",
              "      <td>0</td>\n",
              "      <td>89.99</td>\n",
              "      <td>padrao</td>\n",
              "      <td>steam,windows</td>\n",
              "    </tr>\n",
              "    <tr>\n",
              "      <th>...</th>\n",
              "      <td>...</td>\n",
              "      <td>...</td>\n",
              "      <td>...</td>\n",
              "      <td>...</td>\n",
              "      <td>...</td>\n",
              "    </tr>\n",
              "    <tr>\n",
              "      <th>91</th>\n",
              "      <td>riot points  gift card digital 50 reais</td>\n",
              "      <td>0</td>\n",
              "      <td>50.00</td>\n",
              "      <td>padrao</td>\n",
              "      <td>windows,mac</td>\n",
              "    </tr>\n",
              "    <tr>\n",
              "      <th>92</th>\n",
              "      <td>hotline miami</td>\n",
              "      <td>0</td>\n",
              "      <td>16.99</td>\n",
              "      <td>padrao</td>\n",
              "      <td>steam,windows,linux,mac</td>\n",
              "    </tr>\n",
              "    <tr>\n",
              "      <th>93</th>\n",
              "      <td>men of war assault squad 2  war chest edition</td>\n",
              "      <td>77</td>\n",
              "      <td>32.04</td>\n",
              "      <td>padrao</td>\n",
              "      <td>steam,windows</td>\n",
              "    </tr>\n",
              "    <tr>\n",
              "      <th>94</th>\n",
              "      <td>naruto shippuden ultimate ninja storm 4  road ...</td>\n",
              "      <td>0</td>\n",
              "      <td>122.16</td>\n",
              "      <td>padrao</td>\n",
              "      <td>steam,windows</td>\n",
              "    </tr>\n",
              "    <tr>\n",
              "      <th>95</th>\n",
              "      <td>naruto shippuden ultimate ninja storm 4</td>\n",
              "      <td>0</td>\n",
              "      <td>97.00</td>\n",
              "      <td>padrao</td>\n",
              "      <td>steam,windows</td>\n",
              "    </tr>\n",
              "  </tbody>\n",
              "</table>\n",
              "<p>96 rows × 5 columns</p>\n",
              "</div>"
            ],
            "text/plain": [
              "                                                 nome porcentagem_desconto  \\\n",
              "0                                     darkest dungeon                    0   \n",
              "1      resident evil 2  biohazard re2  deluxe edition                   76   \n",
              "2                                   enter the gungeon                    0   \n",
              "3              resident evil 7 biohazard gold edition                   75   \n",
              "4                         lego harry potter years 1 4                    0   \n",
              "..                                                ...                  ...   \n",
              "91            riot points  gift card digital 50 reais                    0   \n",
              "92                                      hotline miami                    0   \n",
              "93      men of war assault squad 2  war chest edition                   77   \n",
              "94  naruto shippuden ultimate ninja storm 4  road ...                    0   \n",
              "95            naruto shippuden ultimate ninja storm 4                    0   \n",
              "\n",
              "     preco    tipo                  sistema  \n",
              "0    45.99  padrao  steam,windows,linux,mac  \n",
              "1    25.99  padrao            steam,windows  \n",
              "2    27.99  padrao  steam,windows,linux,mac  \n",
              "3    20.99  padrao            steam,windows  \n",
              "4    89.99  padrao            steam,windows  \n",
              "..     ...     ...                      ...  \n",
              "91   50.00  padrao              windows,mac  \n",
              "92   16.99  padrao  steam,windows,linux,mac  \n",
              "93   32.04  padrao            steam,windows  \n",
              "94  122.16  padrao            steam,windows  \n",
              "95   97.00  padrao            steam,windows  \n",
              "\n",
              "[96 rows x 5 columns]"
            ]
          },
          "execution_count": 24,
          "metadata": {},
          "output_type": "execute_result"
        }
      ],
      "source": [
        "dados.nome = dados.nome.str.lower()\n",
        "dados.tipo = dados.tipo.str.lower()\n",
        "dados"
      ]
    },
    {
      "attachments": {},
      "cell_type": "markdown",
      "metadata": {},
      "source": [
        "## Tratamento de Outlier\n",
        "\n",
        "Ao realizar análise dos outlier da base, verificamos que apesar de fora do desvio padrão, estes dados não deveriam ser descartados, uma vez que representam o valor real do item."
      ]
    },
    {
      "cell_type": "code",
      "execution_count": 25,
      "metadata": {},
      "outputs": [
        {
          "data": {
            "application/vnd.plotly.v1+json": {
              "config": {
                "plotlyServerURL": "https://plot.ly"
              },
              "data": [
                {
                  "alignmentgroup": "True",
                  "hovertemplate": "variable=%{x}<br>value=%{y}<extra></extra>",
                  "legendgroup": "",
                  "marker": {
                    "color": "#636efa"
                  },
                  "name": "",
                  "notched": false,
                  "offsetgroup": "",
                  "orientation": "v",
                  "showlegend": false,
                  "type": "box",
                  "x": [
                    "preco",
                    "preco",
                    "preco",
                    "preco",
                    "preco",
                    "preco",
                    "preco",
                    "preco",
                    "preco",
                    "preco",
                    "preco",
                    "preco",
                    "preco",
                    "preco",
                    "preco",
                    "preco",
                    "preco",
                    "preco",
                    "preco",
                    "preco",
                    "preco",
                    "preco",
                    "preco",
                    "preco",
                    "preco",
                    "preco",
                    "preco",
                    "preco",
                    "preco",
                    "preco",
                    "preco",
                    "preco",
                    "preco",
                    "preco",
                    "preco",
                    "preco",
                    "preco",
                    "preco",
                    "preco",
                    "preco",
                    "preco",
                    "preco",
                    "preco",
                    "preco",
                    "preco",
                    "preco",
                    "preco",
                    "preco",
                    "preco",
                    "preco",
                    "preco",
                    "preco",
                    "preco",
                    "preco",
                    "preco",
                    "preco",
                    "preco",
                    "preco",
                    "preco",
                    "preco",
                    "preco",
                    "preco",
                    "preco",
                    "preco",
                    "preco",
                    "preco",
                    "preco",
                    "preco",
                    "preco",
                    "preco",
                    "preco",
                    "preco",
                    "preco",
                    "preco",
                    "preco",
                    "preco",
                    "preco",
                    "preco",
                    "preco",
                    "preco",
                    "preco",
                    "preco",
                    "preco",
                    "preco",
                    "preco",
                    "preco",
                    "preco",
                    "preco",
                    "preco",
                    "preco",
                    "preco",
                    "preco",
                    "preco",
                    "preco",
                    "preco",
                    "preco"
                  ],
                  "x0": " ",
                  "xaxis": "x",
                  "y": [
                    45.99,
                    25.99,
                    27.99,
                    20.99,
                    89.99,
                    89.99,
                    99.99,
                    30.49,
                    9.99,
                    32.99,
                    89.99,
                    89.99,
                    63.99,
                    9.99,
                    20.99,
                    36.99,
                    34.99,
                    219.9,
                    109.99,
                    9.99,
                    89.99,
                    55.99,
                    119.99,
                    19.99,
                    27.99,
                    35.99,
                    75.98,
                    7.79,
                    21.99,
                    88.99,
                    78.02,
                    27.99,
                    55.99,
                    28.99,
                    5,
                    124.99,
                    64.95,
                    218.99,
                    75.49,
                    13.99,
                    229.99,
                    96,
                    37.99,
                    13.99,
                    24.99,
                    21.24,
                    200,
                    223.99,
                    89.99,
                    229.99,
                    29.99,
                    36.99,
                    93.99,
                    44.99,
                    36.99,
                    10.89,
                    72.99,
                    100,
                    36.99,
                    89.99,
                    159.99,
                    159,
                    98.99,
                    129.99,
                    44.79,
                    27.99,
                    8.69,
                    72.99,
                    10.49,
                    36.99,
                    259.9,
                    262.99,
                    2.09,
                    159.9,
                    249.9,
                    72.99,
                    89.99,
                    49.99,
                    69.99,
                    72.99,
                    59.99,
                    37.99,
                    47.49,
                    100,
                    279.99,
                    36.99,
                    13.79,
                    89.99,
                    11.99,
                    89.9,
                    50,
                    50,
                    16.99,
                    32.04,
                    122.16,
                    97
                  ],
                  "y0": " ",
                  "yaxis": "y"
                }
              ],
              "layout": {
                "boxmode": "group",
                "legend": {
                  "tracegroupgap": 0
                },
                "margin": {
                  "t": 60
                },
                "template": {
                  "data": {
                    "bar": [
                      {
                        "error_x": {
                          "color": "#2a3f5f"
                        },
                        "error_y": {
                          "color": "#2a3f5f"
                        },
                        "marker": {
                          "line": {
                            "color": "#E5ECF6",
                            "width": 0.5
                          },
                          "pattern": {
                            "fillmode": "overlay",
                            "size": 10,
                            "solidity": 0.2
                          }
                        },
                        "type": "bar"
                      }
                    ],
                    "barpolar": [
                      {
                        "marker": {
                          "line": {
                            "color": "#E5ECF6",
                            "width": 0.5
                          },
                          "pattern": {
                            "fillmode": "overlay",
                            "size": 10,
                            "solidity": 0.2
                          }
                        },
                        "type": "barpolar"
                      }
                    ],
                    "carpet": [
                      {
                        "aaxis": {
                          "endlinecolor": "#2a3f5f",
                          "gridcolor": "white",
                          "linecolor": "white",
                          "minorgridcolor": "white",
                          "startlinecolor": "#2a3f5f"
                        },
                        "baxis": {
                          "endlinecolor": "#2a3f5f",
                          "gridcolor": "white",
                          "linecolor": "white",
                          "minorgridcolor": "white",
                          "startlinecolor": "#2a3f5f"
                        },
                        "type": "carpet"
                      }
                    ],
                    "choropleth": [
                      {
                        "colorbar": {
                          "outlinewidth": 0,
                          "ticks": ""
                        },
                        "type": "choropleth"
                      }
                    ],
                    "contour": [
                      {
                        "colorbar": {
                          "outlinewidth": 0,
                          "ticks": ""
                        },
                        "colorscale": [
                          [
                            0,
                            "#0d0887"
                          ],
                          [
                            0.1111111111111111,
                            "#46039f"
                          ],
                          [
                            0.2222222222222222,
                            "#7201a8"
                          ],
                          [
                            0.3333333333333333,
                            "#9c179e"
                          ],
                          [
                            0.4444444444444444,
                            "#bd3786"
                          ],
                          [
                            0.5555555555555556,
                            "#d8576b"
                          ],
                          [
                            0.6666666666666666,
                            "#ed7953"
                          ],
                          [
                            0.7777777777777778,
                            "#fb9f3a"
                          ],
                          [
                            0.8888888888888888,
                            "#fdca26"
                          ],
                          [
                            1,
                            "#f0f921"
                          ]
                        ],
                        "type": "contour"
                      }
                    ],
                    "contourcarpet": [
                      {
                        "colorbar": {
                          "outlinewidth": 0,
                          "ticks": ""
                        },
                        "type": "contourcarpet"
                      }
                    ],
                    "heatmap": [
                      {
                        "colorbar": {
                          "outlinewidth": 0,
                          "ticks": ""
                        },
                        "colorscale": [
                          [
                            0,
                            "#0d0887"
                          ],
                          [
                            0.1111111111111111,
                            "#46039f"
                          ],
                          [
                            0.2222222222222222,
                            "#7201a8"
                          ],
                          [
                            0.3333333333333333,
                            "#9c179e"
                          ],
                          [
                            0.4444444444444444,
                            "#bd3786"
                          ],
                          [
                            0.5555555555555556,
                            "#d8576b"
                          ],
                          [
                            0.6666666666666666,
                            "#ed7953"
                          ],
                          [
                            0.7777777777777778,
                            "#fb9f3a"
                          ],
                          [
                            0.8888888888888888,
                            "#fdca26"
                          ],
                          [
                            1,
                            "#f0f921"
                          ]
                        ],
                        "type": "heatmap"
                      }
                    ],
                    "heatmapgl": [
                      {
                        "colorbar": {
                          "outlinewidth": 0,
                          "ticks": ""
                        },
                        "colorscale": [
                          [
                            0,
                            "#0d0887"
                          ],
                          [
                            0.1111111111111111,
                            "#46039f"
                          ],
                          [
                            0.2222222222222222,
                            "#7201a8"
                          ],
                          [
                            0.3333333333333333,
                            "#9c179e"
                          ],
                          [
                            0.4444444444444444,
                            "#bd3786"
                          ],
                          [
                            0.5555555555555556,
                            "#d8576b"
                          ],
                          [
                            0.6666666666666666,
                            "#ed7953"
                          ],
                          [
                            0.7777777777777778,
                            "#fb9f3a"
                          ],
                          [
                            0.8888888888888888,
                            "#fdca26"
                          ],
                          [
                            1,
                            "#f0f921"
                          ]
                        ],
                        "type": "heatmapgl"
                      }
                    ],
                    "histogram": [
                      {
                        "marker": {
                          "pattern": {
                            "fillmode": "overlay",
                            "size": 10,
                            "solidity": 0.2
                          }
                        },
                        "type": "histogram"
                      }
                    ],
                    "histogram2d": [
                      {
                        "colorbar": {
                          "outlinewidth": 0,
                          "ticks": ""
                        },
                        "colorscale": [
                          [
                            0,
                            "#0d0887"
                          ],
                          [
                            0.1111111111111111,
                            "#46039f"
                          ],
                          [
                            0.2222222222222222,
                            "#7201a8"
                          ],
                          [
                            0.3333333333333333,
                            "#9c179e"
                          ],
                          [
                            0.4444444444444444,
                            "#bd3786"
                          ],
                          [
                            0.5555555555555556,
                            "#d8576b"
                          ],
                          [
                            0.6666666666666666,
                            "#ed7953"
                          ],
                          [
                            0.7777777777777778,
                            "#fb9f3a"
                          ],
                          [
                            0.8888888888888888,
                            "#fdca26"
                          ],
                          [
                            1,
                            "#f0f921"
                          ]
                        ],
                        "type": "histogram2d"
                      }
                    ],
                    "histogram2dcontour": [
                      {
                        "colorbar": {
                          "outlinewidth": 0,
                          "ticks": ""
                        },
                        "colorscale": [
                          [
                            0,
                            "#0d0887"
                          ],
                          [
                            0.1111111111111111,
                            "#46039f"
                          ],
                          [
                            0.2222222222222222,
                            "#7201a8"
                          ],
                          [
                            0.3333333333333333,
                            "#9c179e"
                          ],
                          [
                            0.4444444444444444,
                            "#bd3786"
                          ],
                          [
                            0.5555555555555556,
                            "#d8576b"
                          ],
                          [
                            0.6666666666666666,
                            "#ed7953"
                          ],
                          [
                            0.7777777777777778,
                            "#fb9f3a"
                          ],
                          [
                            0.8888888888888888,
                            "#fdca26"
                          ],
                          [
                            1,
                            "#f0f921"
                          ]
                        ],
                        "type": "histogram2dcontour"
                      }
                    ],
                    "mesh3d": [
                      {
                        "colorbar": {
                          "outlinewidth": 0,
                          "ticks": ""
                        },
                        "type": "mesh3d"
                      }
                    ],
                    "parcoords": [
                      {
                        "line": {
                          "colorbar": {
                            "outlinewidth": 0,
                            "ticks": ""
                          }
                        },
                        "type": "parcoords"
                      }
                    ],
                    "pie": [
                      {
                        "automargin": true,
                        "type": "pie"
                      }
                    ],
                    "scatter": [
                      {
                        "fillpattern": {
                          "fillmode": "overlay",
                          "size": 10,
                          "solidity": 0.2
                        },
                        "type": "scatter"
                      }
                    ],
                    "scatter3d": [
                      {
                        "line": {
                          "colorbar": {
                            "outlinewidth": 0,
                            "ticks": ""
                          }
                        },
                        "marker": {
                          "colorbar": {
                            "outlinewidth": 0,
                            "ticks": ""
                          }
                        },
                        "type": "scatter3d"
                      }
                    ],
                    "scattercarpet": [
                      {
                        "marker": {
                          "colorbar": {
                            "outlinewidth": 0,
                            "ticks": ""
                          }
                        },
                        "type": "scattercarpet"
                      }
                    ],
                    "scattergeo": [
                      {
                        "marker": {
                          "colorbar": {
                            "outlinewidth": 0,
                            "ticks": ""
                          }
                        },
                        "type": "scattergeo"
                      }
                    ],
                    "scattergl": [
                      {
                        "marker": {
                          "colorbar": {
                            "outlinewidth": 0,
                            "ticks": ""
                          }
                        },
                        "type": "scattergl"
                      }
                    ],
                    "scattermapbox": [
                      {
                        "marker": {
                          "colorbar": {
                            "outlinewidth": 0,
                            "ticks": ""
                          }
                        },
                        "type": "scattermapbox"
                      }
                    ],
                    "scatterpolar": [
                      {
                        "marker": {
                          "colorbar": {
                            "outlinewidth": 0,
                            "ticks": ""
                          }
                        },
                        "type": "scatterpolar"
                      }
                    ],
                    "scatterpolargl": [
                      {
                        "marker": {
                          "colorbar": {
                            "outlinewidth": 0,
                            "ticks": ""
                          }
                        },
                        "type": "scatterpolargl"
                      }
                    ],
                    "scatterternary": [
                      {
                        "marker": {
                          "colorbar": {
                            "outlinewidth": 0,
                            "ticks": ""
                          }
                        },
                        "type": "scatterternary"
                      }
                    ],
                    "surface": [
                      {
                        "colorbar": {
                          "outlinewidth": 0,
                          "ticks": ""
                        },
                        "colorscale": [
                          [
                            0,
                            "#0d0887"
                          ],
                          [
                            0.1111111111111111,
                            "#46039f"
                          ],
                          [
                            0.2222222222222222,
                            "#7201a8"
                          ],
                          [
                            0.3333333333333333,
                            "#9c179e"
                          ],
                          [
                            0.4444444444444444,
                            "#bd3786"
                          ],
                          [
                            0.5555555555555556,
                            "#d8576b"
                          ],
                          [
                            0.6666666666666666,
                            "#ed7953"
                          ],
                          [
                            0.7777777777777778,
                            "#fb9f3a"
                          ],
                          [
                            0.8888888888888888,
                            "#fdca26"
                          ],
                          [
                            1,
                            "#f0f921"
                          ]
                        ],
                        "type": "surface"
                      }
                    ],
                    "table": [
                      {
                        "cells": {
                          "fill": {
                            "color": "#EBF0F8"
                          },
                          "line": {
                            "color": "white"
                          }
                        },
                        "header": {
                          "fill": {
                            "color": "#C8D4E3"
                          },
                          "line": {
                            "color": "white"
                          }
                        },
                        "type": "table"
                      }
                    ]
                  },
                  "layout": {
                    "annotationdefaults": {
                      "arrowcolor": "#2a3f5f",
                      "arrowhead": 0,
                      "arrowwidth": 1
                    },
                    "autotypenumbers": "strict",
                    "coloraxis": {
                      "colorbar": {
                        "outlinewidth": 0,
                        "ticks": ""
                      }
                    },
                    "colorscale": {
                      "diverging": [
                        [
                          0,
                          "#8e0152"
                        ],
                        [
                          0.1,
                          "#c51b7d"
                        ],
                        [
                          0.2,
                          "#de77ae"
                        ],
                        [
                          0.3,
                          "#f1b6da"
                        ],
                        [
                          0.4,
                          "#fde0ef"
                        ],
                        [
                          0.5,
                          "#f7f7f7"
                        ],
                        [
                          0.6,
                          "#e6f5d0"
                        ],
                        [
                          0.7,
                          "#b8e186"
                        ],
                        [
                          0.8,
                          "#7fbc41"
                        ],
                        [
                          0.9,
                          "#4d9221"
                        ],
                        [
                          1,
                          "#276419"
                        ]
                      ],
                      "sequential": [
                        [
                          0,
                          "#0d0887"
                        ],
                        [
                          0.1111111111111111,
                          "#46039f"
                        ],
                        [
                          0.2222222222222222,
                          "#7201a8"
                        ],
                        [
                          0.3333333333333333,
                          "#9c179e"
                        ],
                        [
                          0.4444444444444444,
                          "#bd3786"
                        ],
                        [
                          0.5555555555555556,
                          "#d8576b"
                        ],
                        [
                          0.6666666666666666,
                          "#ed7953"
                        ],
                        [
                          0.7777777777777778,
                          "#fb9f3a"
                        ],
                        [
                          0.8888888888888888,
                          "#fdca26"
                        ],
                        [
                          1,
                          "#f0f921"
                        ]
                      ],
                      "sequentialminus": [
                        [
                          0,
                          "#0d0887"
                        ],
                        [
                          0.1111111111111111,
                          "#46039f"
                        ],
                        [
                          0.2222222222222222,
                          "#7201a8"
                        ],
                        [
                          0.3333333333333333,
                          "#9c179e"
                        ],
                        [
                          0.4444444444444444,
                          "#bd3786"
                        ],
                        [
                          0.5555555555555556,
                          "#d8576b"
                        ],
                        [
                          0.6666666666666666,
                          "#ed7953"
                        ],
                        [
                          0.7777777777777778,
                          "#fb9f3a"
                        ],
                        [
                          0.8888888888888888,
                          "#fdca26"
                        ],
                        [
                          1,
                          "#f0f921"
                        ]
                      ]
                    },
                    "colorway": [
                      "#636efa",
                      "#EF553B",
                      "#00cc96",
                      "#ab63fa",
                      "#FFA15A",
                      "#19d3f3",
                      "#FF6692",
                      "#B6E880",
                      "#FF97FF",
                      "#FECB52"
                    ],
                    "font": {
                      "color": "#2a3f5f"
                    },
                    "geo": {
                      "bgcolor": "white",
                      "lakecolor": "white",
                      "landcolor": "#E5ECF6",
                      "showlakes": true,
                      "showland": true,
                      "subunitcolor": "white"
                    },
                    "hoverlabel": {
                      "align": "left"
                    },
                    "hovermode": "closest",
                    "mapbox": {
                      "style": "light"
                    },
                    "paper_bgcolor": "white",
                    "plot_bgcolor": "#E5ECF6",
                    "polar": {
                      "angularaxis": {
                        "gridcolor": "white",
                        "linecolor": "white",
                        "ticks": ""
                      },
                      "bgcolor": "#E5ECF6",
                      "radialaxis": {
                        "gridcolor": "white",
                        "linecolor": "white",
                        "ticks": ""
                      }
                    },
                    "scene": {
                      "xaxis": {
                        "backgroundcolor": "#E5ECF6",
                        "gridcolor": "white",
                        "gridwidth": 2,
                        "linecolor": "white",
                        "showbackground": true,
                        "ticks": "",
                        "zerolinecolor": "white"
                      },
                      "yaxis": {
                        "backgroundcolor": "#E5ECF6",
                        "gridcolor": "white",
                        "gridwidth": 2,
                        "linecolor": "white",
                        "showbackground": true,
                        "ticks": "",
                        "zerolinecolor": "white"
                      },
                      "zaxis": {
                        "backgroundcolor": "#E5ECF6",
                        "gridcolor": "white",
                        "gridwidth": 2,
                        "linecolor": "white",
                        "showbackground": true,
                        "ticks": "",
                        "zerolinecolor": "white"
                      }
                    },
                    "shapedefaults": {
                      "line": {
                        "color": "#2a3f5f"
                      }
                    },
                    "ternary": {
                      "aaxis": {
                        "gridcolor": "white",
                        "linecolor": "white",
                        "ticks": ""
                      },
                      "baxis": {
                        "gridcolor": "white",
                        "linecolor": "white",
                        "ticks": ""
                      },
                      "bgcolor": "#E5ECF6",
                      "caxis": {
                        "gridcolor": "white",
                        "linecolor": "white",
                        "ticks": ""
                      }
                    },
                    "title": {
                      "x": 0.05
                    },
                    "xaxis": {
                      "automargin": true,
                      "gridcolor": "white",
                      "linecolor": "white",
                      "ticks": "",
                      "title": {
                        "standoff": 15
                      },
                      "zerolinecolor": "white",
                      "zerolinewidth": 2
                    },
                    "yaxis": {
                      "automargin": true,
                      "gridcolor": "white",
                      "linecolor": "white",
                      "ticks": "",
                      "title": {
                        "standoff": 15
                      },
                      "zerolinecolor": "white",
                      "zerolinewidth": 2
                    }
                  }
                },
                "xaxis": {
                  "anchor": "y",
                  "domain": [
                    0,
                    1
                  ],
                  "title": {
                    "text": "variable"
                  }
                },
                "yaxis": {
                  "anchor": "x",
                  "domain": [
                    0,
                    1
                  ],
                  "title": {
                    "text": "value"
                  }
                }
              }
            }
          },
          "metadata": {},
          "output_type": "display_data"
        }
      ],
      "source": [
        "px.box(dados.preco)"
      ]
    },
    {
      "attachments": {},
      "cell_type": "markdown",
      "metadata": {},
      "source": [
        "## Salvar base de dados tratadas"
      ]
    },
    {
      "cell_type": "code",
      "execution_count": 27,
      "metadata": {},
      "outputs": [],
      "source": [
        "dados.to_csv(\"../2_bases_tratadas/base_tratada.csv\", index=True)"
      ]
    }
  ],
  "metadata": {
    "colab": {
      "provenance": []
    },
    "kernelspec": {
      "display_name": "Python 3.9.0 64-bit",
      "language": "python",
      "name": "python3"
    },
    "language_info": {
      "codemirror_mode": {
        "name": "ipython",
        "version": 3
      },
      "file_extension": ".py",
      "mimetype": "text/x-python",
      "name": "python",
      "nbconvert_exporter": "python",
      "pygments_lexer": "ipython3",
      "version": "3.11.0"
    },
    "orig_nbformat": 4,
    "vscode": {
      "interpreter": {
        "hash": "9b16fe64e235b62e0f32637134c1c3ea29b3eadaef70f7339a05a72ed13b4b69"
      }
    }
  },
  "nbformat": 4,
  "nbformat_minor": 0
}
