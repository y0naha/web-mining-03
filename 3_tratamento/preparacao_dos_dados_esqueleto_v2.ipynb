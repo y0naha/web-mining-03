{
  "cells": [
    {
      "cell_type": "markdown",
      "metadata": {
        "id": "zCrOM9PBUD9n"
      },
      "source": [
        "# Importando as bibliotecas"
      ]
    },
    {
      "cell_type": "code",
      "execution_count": 1,
      "metadata": {
        "id": "95s4x45JUD9r"
      },
      "outputs": [],
      "source": [
        "import pandas as pd\n",
        "import plotly.express as px\n",
        "import missingno as msno"
      ]
    },
    {
      "cell_type": "markdown",
      "metadata": {
        "id": "tIonp_wfUD9t"
      },
      "source": [
        "# Importando as bases de dados"
      ]
    },
    {
      "attachments": {},
      "cell_type": "markdown",
      "metadata": {
        "id": "Y3WlvR5nUD9t"
      },
      "source": [
        "## Base de dados\n",
        "\n",
        "Base de dados loja de jogos on-line."
      ]
    },
    {
      "cell_type": "code",
      "execution_count": 2,
      "metadata": {
        "id": "eQdgzuEPUD9x",
        "outputId": "a7c8eeb8-f055-42de-fe88-dcff4ff30c31"
      },
      "outputs": [],
      "source": [
        "dados = pd.DataFrame(pd.read_csv(\"../1_bases_originais/original.csv\"))"
      ]
    },
    {
      "cell_type": "code",
      "execution_count": 3,
      "metadata": {},
      "outputs": [
        {
          "data": {
            "text/html": [
              "<div>\n",
              "<style scoped>\n",
              "    .dataframe tbody tr th:only-of-type {\n",
              "        vertical-align: middle;\n",
              "    }\n",
              "\n",
              "    .dataframe tbody tr th {\n",
              "        vertical-align: top;\n",
              "    }\n",
              "\n",
              "    .dataframe thead th {\n",
              "        text-align: right;\n",
              "    }\n",
              "</style>\n",
              "<table border=\"1\" class=\"dataframe\">\n",
              "  <thead>\n",
              "    <tr style=\"text-align: right;\">\n",
              "      <th></th>\n",
              "      <th>nome</th>\n",
              "      <th>porcentagem_desconto</th>\n",
              "      <th>preço</th>\n",
              "      <th>tipo</th>\n",
              "      <th>plataforma</th>\n",
              "      <th>sistema</th>\n",
              "    </tr>\n",
              "  </thead>\n",
              "  <tbody>\n",
              "    <tr>\n",
              "      <th>0</th>\n",
              "      <td>Darkest Dungeon: Ancestral Edition</td>\n",
              "      <td>0</td>\n",
              "      <td>R$ 94,99</td>\n",
              "      <td>Pacote</td>\n",
              "      <td>pc</td>\n",
              "      <td>steam,windows,linux,mac</td>\n",
              "    </tr>\n",
              "    <tr>\n",
              "      <th>1</th>\n",
              "      <td>Darkest Dungeon</td>\n",
              "      <td>0</td>\n",
              "      <td>R$ 45,99</td>\n",
              "      <td>Padrão</td>\n",
              "      <td>pc</td>\n",
              "      <td>steam,windows,linux,mac</td>\n",
              "    </tr>\n",
              "    <tr>\n",
              "      <th>2</th>\n",
              "      <td>Star Wars Empire at War - Gold Pack</td>\n",
              "      <td>0</td>\n",
              "      <td>Indisponivel</td>\n",
              "      <td>Padrão</td>\n",
              "      <td>pc</td>\n",
              "      <td>steam,windows</td>\n",
              "    </tr>\n",
              "    <tr>\n",
              "      <th>3</th>\n",
              "      <td>RESIDENT EVIL 2 / BIOHAZARD RE:2 - DELUXE EDITION</td>\n",
              "      <td>0</td>\n",
              "      <td>R$ 109,99</td>\n",
              "      <td>Padrão</td>\n",
              "      <td>pc</td>\n",
              "      <td>steam,windows</td>\n",
              "    </tr>\n",
              "    <tr>\n",
              "      <th>4</th>\n",
              "      <td>Mad Max</td>\n",
              "      <td>-94%</td>\n",
              "      <td>R$ 4,50</td>\n",
              "      <td>Padrão</td>\n",
              "      <td>pc</td>\n",
              "      <td>steam,windows,linux,mac</td>\n",
              "    </tr>\n",
              "    <tr>\n",
              "      <th>...</th>\n",
              "      <td>...</td>\n",
              "      <td>...</td>\n",
              "      <td>...</td>\n",
              "      <td>...</td>\n",
              "      <td>...</td>\n",
              "      <td>...</td>\n",
              "    </tr>\n",
              "    <tr>\n",
              "      <th>595</th>\n",
              "      <td>Planet Zoo</td>\n",
              "      <td>0</td>\n",
              "      <td>R$ 99,99</td>\n",
              "      <td>Padrão</td>\n",
              "      <td>pc</td>\n",
              "      <td>steam,windows</td>\n",
              "    </tr>\n",
              "    <tr>\n",
              "      <th>596</th>\n",
              "      <td>Hamsterdam</td>\n",
              "      <td>0</td>\n",
              "      <td>R$ 10,89</td>\n",
              "      <td>Padrão</td>\n",
              "      <td>pc</td>\n",
              "      <td>steam,windows,mac</td>\n",
              "    </tr>\n",
              "    <tr>\n",
              "      <th>597</th>\n",
              "      <td>Kao the Kangaroo: Round 2</td>\n",
              "      <td>0</td>\n",
              "      <td>R$ 4,49</td>\n",
              "      <td>Padrão</td>\n",
              "      <td>pc</td>\n",
              "      <td>steam,windows</td>\n",
              "    </tr>\n",
              "    <tr>\n",
              "      <th>598</th>\n",
              "      <td>Marvel vs. Capcom: Infinite</td>\n",
              "      <td>0</td>\n",
              "      <td>R$ 89,99</td>\n",
              "      <td>Padrão</td>\n",
              "      <td>pc</td>\n",
              "      <td>steam,windows</td>\n",
              "    </tr>\n",
              "    <tr>\n",
              "      <th>599</th>\n",
              "      <td>The Escapists 2</td>\n",
              "      <td>-75%</td>\n",
              "      <td>R$ 14,99</td>\n",
              "      <td>Padrão</td>\n",
              "      <td>pc</td>\n",
              "      <td>steam,windows,linux,mac</td>\n",
              "    </tr>\n",
              "  </tbody>\n",
              "</table>\n",
              "<p>600 rows × 6 columns</p>\n",
              "</div>"
            ],
            "text/plain": [
              "                                                  nome porcentagem_desconto  \\\n",
              "0                   Darkest Dungeon: Ancestral Edition                    0   \n",
              "1                                      Darkest Dungeon                    0   \n",
              "2                  Star Wars Empire at War - Gold Pack                    0   \n",
              "3    RESIDENT EVIL 2 / BIOHAZARD RE:2 - DELUXE EDITION                    0   \n",
              "4                                              Mad Max                 -94%   \n",
              "..                                                 ...                  ...   \n",
              "595                                         Planet Zoo                    0   \n",
              "596                                         Hamsterdam                    0   \n",
              "597                          Kao the Kangaroo: Round 2                    0   \n",
              "598                        Marvel vs. Capcom: Infinite                    0   \n",
              "599                                    The Escapists 2                 -75%   \n",
              "\n",
              "            preço    tipo plataforma                  sistema  \n",
              "0        R$ 94,99  Pacote         pc  steam,windows,linux,mac  \n",
              "1        R$ 45,99  Padrão         pc  steam,windows,linux,mac  \n",
              "2    Indisponivel  Padrão         pc            steam,windows  \n",
              "3       R$ 109,99  Padrão         pc            steam,windows  \n",
              "4         R$ 4,50  Padrão         pc  steam,windows,linux,mac  \n",
              "..            ...     ...        ...                      ...  \n",
              "595      R$ 99,99  Padrão         pc            steam,windows  \n",
              "596      R$ 10,89  Padrão         pc        steam,windows,mac  \n",
              "597       R$ 4,49  Padrão         pc            steam,windows  \n",
              "598      R$ 89,99  Padrão         pc            steam,windows  \n",
              "599      R$ 14,99  Padrão         pc  steam,windows,linux,mac  \n",
              "\n",
              "[600 rows x 6 columns]"
            ]
          },
          "execution_count": 3,
          "metadata": {},
          "output_type": "execute_result"
        }
      ],
      "source": [
        "dados"
      ]
    },
    {
      "cell_type": "code",
      "execution_count": 4,
      "metadata": {
        "id": "FfBaJC4_UD9x",
        "outputId": "54f2be87-0ab8-40b5-b9b6-e8d8bc2bc85e"
      },
      "outputs": [
        {
          "data": {
            "text/plain": [
              "(600, 6)"
            ]
          },
          "execution_count": 4,
          "metadata": {},
          "output_type": "execute_result"
        }
      ],
      "source": [
        "# verificando o tamanho da base em linhas e colunas\n",
        "dados.shape"
      ]
    },
    {
      "cell_type": "markdown",
      "metadata": {
        "id": "RgZDahgnUD9y"
      },
      "source": [
        "# Primeiros tratamentos"
      ]
    },
    {
      "cell_type": "markdown",
      "metadata": {
        "id": "fQNgwCNZUD9y"
      },
      "source": [
        "## Resetando o index e eliminando os duplicados"
      ]
    },
    {
      "cell_type": "code",
      "execution_count": 5,
      "metadata": {
        "id": "tdpEj27SUD9y",
        "outputId": "a580b20c-aa57-4920-8f51-38a2d1501554"
      },
      "outputs": [
        {
          "data": {
            "text/plain": [
              "0      1\n",
              "394    1\n",
              "396    1\n",
              "397    1\n",
              "398    1\n",
              "      ..\n",
              "200    1\n",
              "201    1\n",
              "202    1\n",
              "203    1\n",
              "599    1\n",
              "Length: 600, dtype: int64"
            ]
          },
          "execution_count": 5,
          "metadata": {},
          "output_type": "execute_result"
        }
      ],
      "source": [
        "dados.index.value_counts()"
      ]
    },
    {
      "cell_type": "code",
      "execution_count": 6,
      "metadata": {
        "id": "eXjCpJGuUD9z",
        "outputId": "0dd3b99f-9eb8-4936-9226-e5f0e8d641ef"
      },
      "outputs": [
        {
          "data": {
            "text/plain": [
              "0      1\n",
              "394    1\n",
              "396    1\n",
              "397    1\n",
              "398    1\n",
              "      ..\n",
              "200    1\n",
              "201    1\n",
              "202    1\n",
              "203    1\n",
              "599    1\n",
              "Length: 600, dtype: int64"
            ]
          },
          "execution_count": 6,
          "metadata": {},
          "output_type": "execute_result"
        }
      ],
      "source": [
        "dados.reset_index(drop=True).index.value_counts()"
      ]
    },
    {
      "cell_type": "code",
      "execution_count": 7,
      "metadata": {
        "id": "l9H79DObUD9z",
        "outputId": "c824e26d-dc5c-477e-c1e6-c452a39a95ce"
      },
      "outputs": [
        {
          "data": {
            "text/plain": [
              "0"
            ]
          },
          "execution_count": 7,
          "metadata": {},
          "output_type": "execute_result"
        }
      ],
      "source": [
        "dados.duplicated().sum()"
      ]
    },
    {
      "cell_type": "code",
      "execution_count": 8,
      "metadata": {
        "id": "yZXazjhDUD9z"
      },
      "outputs": [
        {
          "data": {
            "text/html": [
              "<div>\n",
              "<style scoped>\n",
              "    .dataframe tbody tr th:only-of-type {\n",
              "        vertical-align: middle;\n",
              "    }\n",
              "\n",
              "    .dataframe tbody tr th {\n",
              "        vertical-align: top;\n",
              "    }\n",
              "\n",
              "    .dataframe thead th {\n",
              "        text-align: right;\n",
              "    }\n",
              "</style>\n",
              "<table border=\"1\" class=\"dataframe\">\n",
              "  <thead>\n",
              "    <tr style=\"text-align: right;\">\n",
              "      <th></th>\n",
              "      <th>nome</th>\n",
              "      <th>porcentagem_desconto</th>\n",
              "      <th>preço</th>\n",
              "      <th>tipo</th>\n",
              "      <th>plataforma</th>\n",
              "      <th>sistema</th>\n",
              "    </tr>\n",
              "  </thead>\n",
              "  <tbody>\n",
              "  </tbody>\n",
              "</table>\n",
              "</div>"
            ],
            "text/plain": [
              "Empty DataFrame\n",
              "Columns: [nome, porcentagem_desconto, preço, tipo, plataforma, sistema]\n",
              "Index: []"
            ]
          },
          "execution_count": 8,
          "metadata": {},
          "output_type": "execute_result"
        }
      ],
      "source": [
        "dados.loc[dados.nome.duplicated()==True]"
      ]
    },
    {
      "cell_type": "code",
      "execution_count": 9,
      "metadata": {
        "id": "AG0-ZCVKUD9z",
        "outputId": "5a576f05-34c3-4e4a-fc98-171091262437"
      },
      "outputs": [
        {
          "data": {
            "text/plain": [
              "(600, 6)"
            ]
          },
          "execution_count": 9,
          "metadata": {},
          "output_type": "execute_result"
        }
      ],
      "source": [
        "# criando um novo objeto dados, resetando o index do objeto anterior e eliminando duplicados\n",
        "dados = dados.reset_index(drop=True).drop_duplicates()\n",
        "dados.shape"
      ]
    },
    {
      "cell_type": "markdown",
      "metadata": {
        "id": "LRUyDmrUUD90"
      },
      "source": [
        "## Retirando variáveis\n",
        "\n",
        "No pandas, utilizamos o comando .drop para eliminar as colunas que não pretendemos trabalhar."
      ]
    },
    {
      "cell_type": "code",
      "execution_count": 10,
      "metadata": {
        "id": "Q_B9AnhkUD90"
      },
      "outputs": [],
      "source": [
        "#Não será necessário remoção de colunas"
      ]
    },
    {
      "cell_type": "markdown",
      "metadata": {
        "id": "kQRUrdcOUD90"
      },
      "source": [
        "## Editando os nomes das colunas"
      ]
    },
    {
      "cell_type": "markdown",
      "metadata": {
        "id": "sG_VPvzPUD90"
      },
      "source": [
        "### Nomes das colunas em minusculo"
      ]
    },
    {
      "cell_type": "code",
      "execution_count": 11,
      "metadata": {
        "id": "HRD8WPWJUD90",
        "outputId": "83a3f97c-05f8-45f9-e3f5-c7e23cc8f85f"
      },
      "outputs": [
        {
          "data": {
            "text/plain": [
              "Index(['nome', 'porcentagem_desconto', 'preço', 'tipo', 'plataforma',\n",
              "       'sistema'],\n",
              "      dtype='object')"
            ]
          },
          "execution_count": 11,
          "metadata": {},
          "output_type": "execute_result"
        }
      ],
      "source": [
        "dados.columns"
      ]
    },
    {
      "cell_type": "code",
      "execution_count": 12,
      "metadata": {
        "id": "bbth0O0RUD91"
      },
      "outputs": [],
      "source": [
        "dados.columns = dados.columns.str.lower()"
      ]
    },
    {
      "cell_type": "markdown",
      "metadata": {
        "id": "uEdkwKDUUD91"
      },
      "source": [
        "### Substituindo caracteres especiais das colunas"
      ]
    },
    {
      "cell_type": "code",
      "execution_count": 13,
      "metadata": {
        "id": "26EznS_qUD91"
      },
      "outputs": [],
      "source": [
        "dados.columns = dados.columns.str.replace('ç', 'c')"
      ]
    },
    {
      "cell_type": "code",
      "execution_count": 14,
      "metadata": {
        "id": "GyT9iAVZUD91",
        "outputId": "da4b39a8-e0d3-4064-ec3b-e70ae9a560c0"
      },
      "outputs": [
        {
          "data": {
            "text/plain": [
              "Index(['nome', 'porcentagem_desconto', 'preco', 'tipo', 'plataforma',\n",
              "       'sistema'],\n",
              "      dtype='object')"
            ]
          },
          "execution_count": 14,
          "metadata": {},
          "output_type": "execute_result"
        }
      ],
      "source": [
        "dados.columns"
      ]
    },
    {
      "cell_type": "markdown",
      "metadata": {
        "id": "YKGeg9bkUD91"
      },
      "source": [
        "### Substituindo caracteres especiais das linhas de colunas específicas"
      ]
    },
    {
      "cell_type": "code",
      "execution_count": 15,
      "metadata": {
        "id": "_BbymMu4UD92",
        "outputId": "8e45ae0d-11a7-471a-f668-093ad70976aa"
      },
      "outputs": [
        {
          "name": "stderr",
          "output_type": "stream",
          "text": [
            "C:\\Users\\ionaf\\AppData\\Local\\Temp\\ipykernel_5156\\1570654488.py:1: FutureWarning: The default value of regex will change from True to False in a future version.\n",
            "  dados.preco=dados.preco.str.replace('\\W','')\n"
          ]
        }
      ],
      "source": [
        "dados.preco=dados.preco.str.replace('\\W','')\n",
        "dados.preco=dados.preco.str.replace('R','')"
      ]
    },
    {
      "cell_type": "markdown",
      "metadata": {
        "id": "ZAJD7HDPUD92"
      },
      "source": [
        "### Substituindo caracteres especiais de toda a base de dados"
      ]
    },
    {
      "cell_type": "code",
      "execution_count": 16,
      "metadata": {
        "id": "jcx_lqgUUD92"
      },
      "outputs": [],
      "source": [
        "dados = dados.replace({'á':'a','ã':'a', 'â':'a', 'í':'i',\n",
        "                ':' : '',\n",
        "                '-' : '',\n",
        "                \"’\" : \"\",\n",
        "                \"'\" : \"\",\n",
        "                \"/\" : \"\",\n",
        "                \"%\" : \"\",\n",
        "                '™' : \"\",\n",
        "                'ÅŸ':'s',\n",
        "                'Ä°':'I',\n",
        "                'Ä±':'i',\n",
        "                'Ã¶':'o',\n",
        "                'Ã§':'c',\n",
        "                'ÄŸ':'g',\n",
        "                'Ã¼':'u',\n",
        "                'Ã©':'e',\n",
        "                'Ã¡':'a',\n",
        "                'Ã³':'o',\n",
        "                'Ã±':'nh',\n",
        "                '&':'',\n",
        "                'Ã…Ë†':'n',\n",
        "                'Ã§':'c',\n",
        "                'Ã­':'i',\n",
        "                'Ã£':'a',\n",
        "                'Ãº':'u',\n",
        "                'Ã':'a',\n",
        "                'Ãª':'e',\n",
        "                'Ã‘':'N',\n",
        "                'aÂ¢':'a',\n",
        "                'aÂª':'e',\n",
        "                'aÂ':'a',\n",
        "                \"á\":\"a\",\n",
        "                \"é\":\"e\",\n",
        "                \"í\":\"i\",\n",
        "                \"ó\":\"o\",\n",
        "                \"ú\":\"u\",\n",
        "                \"ã\":\"a\",\n",
        "                \"õ\":\"o\",\n",
        "                \"aª\":\"e\",\n",
        "                \"á\":\"a\",\n",
        "                \"é\":\"e\",\n",
        "                \"í\":\"i\",\n",
        "                \"ó\":\"o\",\n",
        "                \"ú\":\"u\",\n",
        "                \"ã\":\"a\",\n",
        "                \"õ\":\"o\",\n",
        "                \"ê\":\"e\",\n",
        "                \"â\":\"a\",\n",
        "                \"ô\":\"o\",\n",
        "                \"ê\":\"e\",\n",
        "                \"â\":\"a\",\n",
        "                \"ô\":\"o\"               \n",
        "              }, regex=True)"
      ]
    },
    {
      "attachments": {},
      "cell_type": "markdown",
      "metadata": {},
      "source": [
        "## Convertendo preços para númerico"
      ]
    },
    {
      "cell_type": "code",
      "execution_count": 17,
      "metadata": {},
      "outputs": [],
      "source": [
        "dados.preco = pd.to_numeric(dados.preco, errors='coerce')"
      ]
    },
    {
      "attachments": {},
      "cell_type": "markdown",
      "metadata": {},
      "source": [
        "## Dados Missing"
      ]
    },
    {
      "cell_type": "code",
      "execution_count": 18,
      "metadata": {},
      "outputs": [
        {
          "data": {
            "text/plain": [
              "<Axes: >"
            ]
          },
          "execution_count": 18,
          "metadata": {},
          "output_type": "execute_result"
        },
        {
          "data": {
            "image/png": "[encoded data removed]",
            "text/plain": [
              "<Figure size 2500x1000 with 2 Axes>"
            ]
          },
          "metadata": {},
          "output_type": "display_data"
        }
      ],
      "source": [
        "msno.matrix(dados)"
      ]
    },
    {
      "cell_type": "code",
      "execution_count": 19,
      "metadata": {},
      "outputs": [
        {
          "data": {
            "text/plain": [
              "<Axes: >"
            ]
          },
          "execution_count": 19,
          "metadata": {},
          "output_type": "execute_result"
        },
        {
          "data": {
            "image/png": "[encoded data removed]",
            "text/plain": [
              "<Figure size 2500x1000 with 3 Axes>"
            ]
          },
          "metadata": {},
          "output_type": "display_data"
        }
      ],
      "source": [
        "msno.bar(dados)"
      ]
    },
    {
      "attachments": {},
      "cell_type": "markdown",
      "metadata": {},
      "source": [
        "### Justificativa da remoção de dados nulos\n",
        "Em análise dos dados, entendemos que os itens que retornaram indisponíveis da raspagem de dados, não fariam sentido serem expostos ou estarem contidos na base tratada."
      ]
    },
    {
      "cell_type": "code",
      "execution_count": 20,
      "metadata": {},
      "outputs": [
        {
          "data": {
            "text/plain": [
              "nome                    0\n",
              "porcentagem_desconto    0\n",
              "preco                   0\n",
              "tipo                    0\n",
              "plataforma              0\n",
              "sistema                 0\n",
              "dtype: int64"
            ]
          },
          "execution_count": 20,
          "metadata": {},
          "output_type": "execute_result"
        }
      ],
      "source": [
        "dados = dados.dropna()\n",
        "dados.isna().sum()"
      ]
    },
    {
      "attachments": {},
      "cell_type": "markdown",
      "metadata": {},
      "source": [
        "### Resetando index"
      ]
    },
    {
      "cell_type": "code",
      "execution_count": 21,
      "metadata": {},
      "outputs": [
        {
          "data": {
            "text/html": [
              "<div>\n",
              "<style scoped>\n",
              "    .dataframe tbody tr th:only-of-type {\n",
              "        vertical-align: middle;\n",
              "    }\n",
              "\n",
              "    .dataframe tbody tr th {\n",
              "        vertical-align: top;\n",
              "    }\n",
              "\n",
              "    .dataframe thead th {\n",
              "        text-align: right;\n",
              "    }\n",
              "</style>\n",
              "<table border=\"1\" class=\"dataframe\">\n",
              "  <thead>\n",
              "    <tr style=\"text-align: right;\">\n",
              "      <th></th>\n",
              "      <th>nome</th>\n",
              "      <th>porcentagem_desconto</th>\n",
              "      <th>preco</th>\n",
              "      <th>tipo</th>\n",
              "      <th>plataforma</th>\n",
              "      <th>sistema</th>\n",
              "    </tr>\n",
              "  </thead>\n",
              "  <tbody>\n",
              "    <tr>\n",
              "      <th>0</th>\n",
              "      <td>Darkest Dungeon Ancestral Edition</td>\n",
              "      <td>0</td>\n",
              "      <td>9499.0</td>\n",
              "      <td>Pacote</td>\n",
              "      <td>pc</td>\n",
              "      <td>steam,windows,linux,mac</td>\n",
              "    </tr>\n",
              "    <tr>\n",
              "      <th>1</th>\n",
              "      <td>Darkest Dungeon</td>\n",
              "      <td>0</td>\n",
              "      <td>4599.0</td>\n",
              "      <td>Padrao</td>\n",
              "      <td>pc</td>\n",
              "      <td>steam,windows,linux,mac</td>\n",
              "    </tr>\n",
              "    <tr>\n",
              "      <th>2</th>\n",
              "      <td>RESIDENT EVIL 2  BIOHAZARD RE2  DELUXE EDITION</td>\n",
              "      <td>0</td>\n",
              "      <td>10999.0</td>\n",
              "      <td>Padrao</td>\n",
              "      <td>pc</td>\n",
              "      <td>steam,windows</td>\n",
              "    </tr>\n",
              "    <tr>\n",
              "      <th>3</th>\n",
              "      <td>Mad Max</td>\n",
              "      <td>94</td>\n",
              "      <td>450.0</td>\n",
              "      <td>Padrao</td>\n",
              "      <td>pc</td>\n",
              "      <td>steam,windows,linux,mac</td>\n",
              "    </tr>\n",
              "    <tr>\n",
              "      <th>4</th>\n",
              "      <td>Enter the Gungeon</td>\n",
              "      <td>0</td>\n",
              "      <td>2799.0</td>\n",
              "      <td>Padrao</td>\n",
              "      <td>pc</td>\n",
              "      <td>steam,windows,linux,mac</td>\n",
              "    </tr>\n",
              "    <tr>\n",
              "      <th>...</th>\n",
              "      <td>...</td>\n",
              "      <td>...</td>\n",
              "      <td>...</td>\n",
              "      <td>...</td>\n",
              "      <td>...</td>\n",
              "      <td>...</td>\n",
              "    </tr>\n",
              "    <tr>\n",
              "      <th>592</th>\n",
              "      <td>Planet Zoo</td>\n",
              "      <td>0</td>\n",
              "      <td>9999.0</td>\n",
              "      <td>Padrao</td>\n",
              "      <td>pc</td>\n",
              "      <td>steam,windows</td>\n",
              "    </tr>\n",
              "    <tr>\n",
              "      <th>593</th>\n",
              "      <td>Hamsterdam</td>\n",
              "      <td>0</td>\n",
              "      <td>1089.0</td>\n",
              "      <td>Padrao</td>\n",
              "      <td>pc</td>\n",
              "      <td>steam,windows,mac</td>\n",
              "    </tr>\n",
              "    <tr>\n",
              "      <th>594</th>\n",
              "      <td>Kao the Kangaroo Round 2</td>\n",
              "      <td>0</td>\n",
              "      <td>449.0</td>\n",
              "      <td>Padrao</td>\n",
              "      <td>pc</td>\n",
              "      <td>steam,windows</td>\n",
              "    </tr>\n",
              "    <tr>\n",
              "      <th>595</th>\n",
              "      <td>Marvel vs. Capcom Infinite</td>\n",
              "      <td>0</td>\n",
              "      <td>8999.0</td>\n",
              "      <td>Padrao</td>\n",
              "      <td>pc</td>\n",
              "      <td>steam,windows</td>\n",
              "    </tr>\n",
              "    <tr>\n",
              "      <th>596</th>\n",
              "      <td>The Escapists 2</td>\n",
              "      <td>75</td>\n",
              "      <td>1499.0</td>\n",
              "      <td>Padrao</td>\n",
              "      <td>pc</td>\n",
              "      <td>steam,windows,linux,mac</td>\n",
              "    </tr>\n",
              "  </tbody>\n",
              "</table>\n",
              "<p>597 rows × 6 columns</p>\n",
              "</div>"
            ],
            "text/plain": [
              "                                               nome porcentagem_desconto  \\\n",
              "0                 Darkest Dungeon Ancestral Edition                    0   \n",
              "1                                   Darkest Dungeon                    0   \n",
              "2    RESIDENT EVIL 2  BIOHAZARD RE2  DELUXE EDITION                    0   \n",
              "3                                           Mad Max                   94   \n",
              "4                                 Enter the Gungeon                    0   \n",
              "..                                              ...                  ...   \n",
              "592                                      Planet Zoo                    0   \n",
              "593                                      Hamsterdam                    0   \n",
              "594                        Kao the Kangaroo Round 2                    0   \n",
              "595                      Marvel vs. Capcom Infinite                    0   \n",
              "596                                 The Escapists 2                   75   \n",
              "\n",
              "       preco    tipo plataforma                  sistema  \n",
              "0     9499.0  Pacote         pc  steam,windows,linux,mac  \n",
              "1     4599.0  Padrao         pc  steam,windows,linux,mac  \n",
              "2    10999.0  Padrao         pc            steam,windows  \n",
              "3      450.0  Padrao         pc  steam,windows,linux,mac  \n",
              "4     2799.0  Padrao         pc  steam,windows,linux,mac  \n",
              "..       ...     ...        ...                      ...  \n",
              "592   9999.0  Padrao         pc            steam,windows  \n",
              "593   1089.0  Padrao         pc        steam,windows,mac  \n",
              "594    449.0  Padrao         pc            steam,windows  \n",
              "595   8999.0  Padrao         pc            steam,windows  \n",
              "596   1499.0  Padrao         pc  steam,windows,linux,mac  \n",
              "\n",
              "[597 rows x 6 columns]"
            ]
          },
          "execution_count": 21,
          "metadata": {},
          "output_type": "execute_result"
        }
      ],
      "source": [
        "dados = dados.reset_index(drop=True)\n",
        "dados"
      ]
    },
    {
      "attachments": {},
      "cell_type": "markdown",
      "metadata": {},
      "source": [
        "### Transformando o preço para valor monetário"
      ]
    },
    {
      "cell_type": "code",
      "execution_count": 22,
      "metadata": {},
      "outputs": [
        {
          "data": {
            "text/plain": [
              "0       94.99\n",
              "1       45.99\n",
              "2      109.99\n",
              "3        4.50\n",
              "4       27.99\n",
              "        ...  \n",
              "592     99.99\n",
              "593     10.89\n",
              "594      4.49\n",
              "595     89.99\n",
              "596     14.99\n",
              "Name: preco, Length: 597, dtype: float64"
            ]
          },
          "execution_count": 22,
          "metadata": {},
          "output_type": "execute_result"
        }
      ],
      "source": [
        "dados['preco'] = dados['preco'].div(100)\n",
        "dados.preco"
      ]
    },
    {
      "attachments": {},
      "cell_type": "markdown",
      "metadata": {},
      "source": [
        "## Tranformando texto para lower case e criando padrão de uso"
      ]
    },
    {
      "cell_type": "code",
      "execution_count": 23,
      "metadata": {
        "id": "6FNi7ZobUD93"
      },
      "outputs": [
        {
          "data": {
            "text/html": [
              "<div>\n",
              "<style scoped>\n",
              "    .dataframe tbody tr th:only-of-type {\n",
              "        vertical-align: middle;\n",
              "    }\n",
              "\n",
              "    .dataframe tbody tr th {\n",
              "        vertical-align: top;\n",
              "    }\n",
              "\n",
              "    .dataframe thead th {\n",
              "        text-align: right;\n",
              "    }\n",
              "</style>\n",
              "<table border=\"1\" class=\"dataframe\">\n",
              "  <thead>\n",
              "    <tr style=\"text-align: right;\">\n",
              "      <th></th>\n",
              "      <th>nome</th>\n",
              "      <th>porcentagem_desconto</th>\n",
              "      <th>preco</th>\n",
              "      <th>tipo</th>\n",
              "      <th>plataforma</th>\n",
              "      <th>sistema</th>\n",
              "    </tr>\n",
              "  </thead>\n",
              "  <tbody>\n",
              "    <tr>\n",
              "      <th>0</th>\n",
              "      <td>darkest dungeon ancestral edition</td>\n",
              "      <td>0</td>\n",
              "      <td>94.99</td>\n",
              "      <td>pacote</td>\n",
              "      <td>pc</td>\n",
              "      <td>steam,windows,linux,mac</td>\n",
              "    </tr>\n",
              "    <tr>\n",
              "      <th>1</th>\n",
              "      <td>darkest dungeon</td>\n",
              "      <td>0</td>\n",
              "      <td>45.99</td>\n",
              "      <td>padrao</td>\n",
              "      <td>pc</td>\n",
              "      <td>steam,windows,linux,mac</td>\n",
              "    </tr>\n",
              "    <tr>\n",
              "      <th>2</th>\n",
              "      <td>resident evil 2  biohazard re2  deluxe edition</td>\n",
              "      <td>0</td>\n",
              "      <td>109.99</td>\n",
              "      <td>padrao</td>\n",
              "      <td>pc</td>\n",
              "      <td>steam,windows</td>\n",
              "    </tr>\n",
              "    <tr>\n",
              "      <th>3</th>\n",
              "      <td>mad max</td>\n",
              "      <td>94</td>\n",
              "      <td>4.50</td>\n",
              "      <td>padrao</td>\n",
              "      <td>pc</td>\n",
              "      <td>steam,windows,linux,mac</td>\n",
              "    </tr>\n",
              "    <tr>\n",
              "      <th>4</th>\n",
              "      <td>enter the gungeon</td>\n",
              "      <td>0</td>\n",
              "      <td>27.99</td>\n",
              "      <td>padrao</td>\n",
              "      <td>pc</td>\n",
              "      <td>steam,windows,linux,mac</td>\n",
              "    </tr>\n",
              "    <tr>\n",
              "      <th>...</th>\n",
              "      <td>...</td>\n",
              "      <td>...</td>\n",
              "      <td>...</td>\n",
              "      <td>...</td>\n",
              "      <td>...</td>\n",
              "      <td>...</td>\n",
              "    </tr>\n",
              "    <tr>\n",
              "      <th>592</th>\n",
              "      <td>planet zoo</td>\n",
              "      <td>0</td>\n",
              "      <td>99.99</td>\n",
              "      <td>padrao</td>\n",
              "      <td>pc</td>\n",
              "      <td>steam,windows</td>\n",
              "    </tr>\n",
              "    <tr>\n",
              "      <th>593</th>\n",
              "      <td>hamsterdam</td>\n",
              "      <td>0</td>\n",
              "      <td>10.89</td>\n",
              "      <td>padrao</td>\n",
              "      <td>pc</td>\n",
              "      <td>steam,windows,mac</td>\n",
              "    </tr>\n",
              "    <tr>\n",
              "      <th>594</th>\n",
              "      <td>kao the kangaroo round 2</td>\n",
              "      <td>0</td>\n",
              "      <td>4.49</td>\n",
              "      <td>padrao</td>\n",
              "      <td>pc</td>\n",
              "      <td>steam,windows</td>\n",
              "    </tr>\n",
              "    <tr>\n",
              "      <th>595</th>\n",
              "      <td>marvel vs. capcom infinite</td>\n",
              "      <td>0</td>\n",
              "      <td>89.99</td>\n",
              "      <td>padrao</td>\n",
              "      <td>pc</td>\n",
              "      <td>steam,windows</td>\n",
              "    </tr>\n",
              "    <tr>\n",
              "      <th>596</th>\n",
              "      <td>the escapists 2</td>\n",
              "      <td>75</td>\n",
              "      <td>14.99</td>\n",
              "      <td>padrao</td>\n",
              "      <td>pc</td>\n",
              "      <td>steam,windows,linux,mac</td>\n",
              "    </tr>\n",
              "  </tbody>\n",
              "</table>\n",
              "<p>597 rows × 6 columns</p>\n",
              "</div>"
            ],
            "text/plain": [
              "                                               nome porcentagem_desconto  \\\n",
              "0                 darkest dungeon ancestral edition                    0   \n",
              "1                                   darkest dungeon                    0   \n",
              "2    resident evil 2  biohazard re2  deluxe edition                    0   \n",
              "3                                           mad max                   94   \n",
              "4                                 enter the gungeon                    0   \n",
              "..                                              ...                  ...   \n",
              "592                                      planet zoo                    0   \n",
              "593                                      hamsterdam                    0   \n",
              "594                        kao the kangaroo round 2                    0   \n",
              "595                      marvel vs. capcom infinite                    0   \n",
              "596                                 the escapists 2                   75   \n",
              "\n",
              "      preco    tipo plataforma                  sistema  \n",
              "0     94.99  pacote         pc  steam,windows,linux,mac  \n",
              "1     45.99  padrao         pc  steam,windows,linux,mac  \n",
              "2    109.99  padrao         pc            steam,windows  \n",
              "3      4.50  padrao         pc  steam,windows,linux,mac  \n",
              "4     27.99  padrao         pc  steam,windows,linux,mac  \n",
              "..      ...     ...        ...                      ...  \n",
              "592   99.99  padrao         pc            steam,windows  \n",
              "593   10.89  padrao         pc        steam,windows,mac  \n",
              "594    4.49  padrao         pc            steam,windows  \n",
              "595   89.99  padrao         pc            steam,windows  \n",
              "596   14.99  padrao         pc  steam,windows,linux,mac  \n",
              "\n",
              "[597 rows x 6 columns]"
            ]
          },
          "execution_count": 23,
          "metadata": {},
          "output_type": "execute_result"
        }
      ],
      "source": [
        "dados.nome = dados.nome.str.lower()\n",
        "dados.tipo = dados.tipo.str.lower()\n",
        "dados"
      ]
    },
    {
      "attachments": {},
      "cell_type": "markdown",
      "metadata": {},
      "source": [
        "## Tratamento de Outlier\n",
        "\n",
        "Ao realizar análise dos outlier da base, verificamos que apesar de fora do desvio padrão, estes dados não deveriam ser descartados, uma vez que representam o valor real do item."
      ]
    },
    {
      "cell_type": "code",
      "execution_count": 24,
      "metadata": {},
      "outputs": [
        {
          "data": {
            "application/vnd.plotly.v1+json": {
              "config": {
                "plotlyServerURL": "https://plot.ly"
              },
              "data": [
                {
                  "alignmentgroup": "True",
                  "hovertemplate": "variable=%{x}<br>value=%{y}<extra></extra>",
                  "legendgroup": "",
                  "marker": {
                    "color": "#636efa"
                  },
                  "name": "",
                  "notched": false,
                  "offsetgroup": "",
                  "orientation": "v",
                  "showlegend": false,
                  "type": "box",
                  "x": [
                    "preco",
                    "preco",
                    "preco",
                    "preco",
                    "preco",
                    "preco",
                    "preco",
                    "preco",
                    "preco",
                    "preco",
                    "preco",
                    "preco",
                    "preco",
                    "preco",
                    "preco",
                    "preco",
                    "preco",
                    "preco",
                    "preco",
                    "preco",
                    "preco",
                    "preco",
                    "preco",
                    "preco",
                    "preco",
                    "preco",
                    "preco",
                    "preco",
                    "preco",
                    "preco",
                    "preco",
                    "preco",
                    "preco",
                    "preco",
                    "preco",
                    "preco",
                    "preco",
                    "preco",
                    "preco",
                    "preco",
                    "preco",
                    "preco",
                    "preco",
                    "preco",
                    "preco",
                    "preco",
                    "preco",
                    "preco",
                    "preco",
                    "preco",
                    "preco",
                    "preco",
                    "preco",
                    "preco",
                    "preco",
                    "preco",
                    "preco",
                    "preco",
                    "preco",
                    "preco",
                    "preco",
                    "preco",
                    "preco",
                    "preco",
                    "preco",
                    "preco",
                    "preco",
                    "preco",
                    "preco",
                    "preco",
                    "preco",
                    "preco",
                    "preco",
                    "preco",
                    "preco",
                    "preco",
                    "preco",
                    "preco",
                    "preco",
                    "preco",
                    "preco",
                    "preco",
                    "preco",
                    "preco",
                    "preco",
                    "preco",
                    "preco",
                    "preco",
                    "preco",
                    "preco",
                    "preco",
                    "preco",
                    "preco",
                    "preco",
                    "preco",
                    "preco",
                    "preco",
                    "preco",
                    "preco",
                    "preco",
                    "preco",
                    "preco",
                    "preco",
                    "preco",
                    "preco",
                    "preco",
                    "preco",
                    "preco",
                    "preco",
                    "preco",
                    "preco",
                    "preco",
                    "preco",
                    "preco",
                    "preco",
                    "preco",
                    "preco",
                    "preco",
                    "preco",
                    "preco",
                    "preco",
                    "preco",
                    "preco",
                    "preco",
                    "preco",
                    "preco",
                    "preco",
                    "preco",
                    "preco",
                    "preco",
                    "preco",
                    "preco",
                    "preco",
                    "preco",
                    "preco",
                    "preco",
                    "preco",
                    "preco",
                    "preco",
                    "preco",
                    "preco",
                    "preco",
                    "preco",
                    "preco",
                    "preco",
                    "preco",
                    "preco",
                    "preco",
                    "preco",
                    "preco",
                    "preco",
                    "preco",
                    "preco",
                    "preco",
                    "preco",
                    "preco",
                    "preco",
                    "preco",
                    "preco",
                    "preco",
                    "preco",
                    "preco",
                    "preco",
                    "preco",
                    "preco",
                    "preco",
                    "preco",
                    "preco",
                    "preco",
                    "preco",
                    "preco",
                    "preco",
                    "preco",
                    "preco",
                    "preco",
                    "preco",
                    "preco",
                    "preco",
                    "preco",
                    "preco",
                    "preco",
                    "preco",
                    "preco",
                    "preco",
                    "preco",
                    "preco",
                    "preco",
                    "preco",
                    "preco",
                    "preco",
                    "preco",
                    "preco",
                    "preco",
                    "preco",
                    "preco",
                    "preco",
                    "preco",
                    "preco",
                    "preco",
                    "preco",
                    "preco",
                    "preco",
                    "preco",
                    "preco",
                    "preco",
                    "preco",
                    "preco",
                    "preco",
                    "preco",
                    "preco",
                    "preco",
                    "preco",
                    "preco",
                    "preco",
                    "preco",
                    "preco",
                    "preco",
                    "preco",
                    "preco",
                    "preco",
                    "preco",
                    "preco",
                    "preco",
                    "preco",
                    "preco",
                    "preco",
                    "preco",
                    "preco",
                    "preco",
                    "preco",
                    "preco",
                    "preco",
                    "preco",
                    "preco",
                    "preco",
                    "preco",
                    "preco",
                    "preco",
                    "preco",
                    "preco",
                    "preco",
                    "preco",
                    "preco",
                    "preco",
                    "preco",
                    "preco",
                    "preco",
                    "preco",
                    "preco",
                    "preco",
                    "preco",
                    "preco",
                    "preco",
                    "preco",
                    "preco",
                    "preco",
                    "preco",
                    "preco",
                    "preco",
                    "preco",
                    "preco",
                    "preco",
                    "preco",
                    "preco",
                    "preco",
                    "preco",
                    "preco",
                    "preco",
                    "preco",
                    "preco",
                    "preco",
                    "preco",
                    "preco",
                    "preco",
                    "preco",
                    "preco",
                    "preco",
                    "preco",
                    "preco",
                    "preco",
                    "preco",
                    "preco",
                    "preco",
                    "preco",
                    "preco",
                    "preco",
                    "preco",
                    "preco",
                    "preco",
                    "preco",
                    "preco",
                    "preco",
                    "preco",
                    "preco",
                    "preco",
                    "preco",
                    "preco",
                    "preco",
                    "preco",
                    "preco",
                    "preco",
                    "preco",
                    "preco",
                    "preco",
                    "preco",
                    "preco",
                    "preco",
                    "preco",
                    "preco",
                    "preco",
                    "preco",
                    "preco",
                    "preco",
                    "preco",
                    "preco",
                    "preco",
                    "preco",
                    "preco",
                    "preco",
                    "preco",
                    "preco",
                    "preco",
                    "preco",
                    "preco",
                    "preco",
                    "preco",
                    "preco",
                    "preco",
                    "preco",
                    "preco",
                    "preco",
                    "preco",
                    "preco",
                    "preco",
                    "preco",
                    "preco",
                    "preco",
                    "preco",
                    "preco",
                    "preco",
                    "preco",
                    "preco",
                    "preco",
                    "preco",
                    "preco",
                    "preco",
                    "preco",
                    "preco",
                    "preco",
                    "preco",
                    "preco",
                    "preco",
                    "preco",
                    "preco",
                    "preco",
                    "preco",
                    "preco",
                    "preco",
                    "preco",
                    "preco",
                    "preco",
                    "preco",
                    "preco",
                    "preco",
                    "preco",
                    "preco",
                    "preco",
                    "preco",
                    "preco",
                    "preco",
                    "preco",
                    "preco",
                    "preco",
                    "preco",
                    "preco",
                    "preco",
                    "preco",
                    "preco",
                    "preco",
                    "preco",
                    "preco",
                    "preco",
                    "preco",
                    "preco",
                    "preco",
                    "preco",
                    "preco",
                    "preco",
                    "preco",
                    "preco",
                    "preco",
                    "preco",
                    "preco",
                    "preco",
                    "preco",
                    "preco",
                    "preco",
                    "preco",
                    "preco",
                    "preco",
                    "preco",
                    "preco",
                    "preco",
                    "preco",
                    "preco",
                    "preco",
                    "preco",
                    "preco",
                    "preco",
                    "preco",
                    "preco",
                    "preco",
                    "preco",
                    "preco",
                    "preco",
                    "preco",
                    "preco",
                    "preco",
                    "preco",
                    "preco",
                    "preco",
                    "preco",
                    "preco",
                    "preco",
                    "preco",
                    "preco",
                    "preco",
                    "preco",
                    "preco",
                    "preco",
                    "preco",
                    "preco",
                    "preco",
                    "preco",
                    "preco",
                    "preco",
                    "preco",
                    "preco",
                    "preco",
                    "preco",
                    "preco",
                    "preco",
                    "preco",
                    "preco",
                    "preco",
                    "preco",
                    "preco",
                    "preco",
                    "preco",
                    "preco",
                    "preco",
                    "preco",
                    "preco",
                    "preco",
                    "preco",
                    "preco",
                    "preco",
                    "preco",
                    "preco",
                    "preco",
                    "preco",
                    "preco",
                    "preco",
                    "preco",
                    "preco",
                    "preco",
                    "preco",
                    "preco",
                    "preco",
                    "preco",
                    "preco",
                    "preco",
                    "preco",
                    "preco",
                    "preco",
                    "preco",
                    "preco",
                    "preco",
                    "preco",
                    "preco",
                    "preco",
                    "preco",
                    "preco",
                    "preco",
                    "preco",
                    "preco",
                    "preco",
                    "preco",
                    "preco",
                    "preco",
                    "preco",
                    "preco",
                    "preco",
                    "preco",
                    "preco",
                    "preco",
                    "preco",
                    "preco",
                    "preco",
                    "preco",
                    "preco",
                    "preco",
                    "preco",
                    "preco",
                    "preco",
                    "preco",
                    "preco",
                    "preco",
                    "preco",
                    "preco",
                    "preco",
                    "preco",
                    "preco",
                    "preco",
                    "preco",
                    "preco",
                    "preco",
                    "preco",
                    "preco",
                    "preco",
                    "preco",
                    "preco",
                    "preco",
                    "preco",
                    "preco",
                    "preco",
                    "preco",
                    "preco",
                    "preco",
                    "preco",
                    "preco",
                    "preco",
                    "preco",
                    "preco",
                    "preco",
                    "preco",
                    "preco",
                    "preco",
                    "preco",
                    "preco",
                    "preco",
                    "preco",
                    "preco",
                    "preco",
                    "preco",
                    "preco",
                    "preco",
                    "preco",
                    "preco",
                    "preco",
                    "preco",
                    "preco",
                    "preco",
                    "preco",
                    "preco",
                    "preco",
                    "preco",
                    "preco",
                    "preco",
                    "preco",
                    "preco",
                    "preco",
                    "preco",
                    "preco",
                    "preco",
                    "preco",
                    "preco",
                    "preco",
                    "preco",
                    "preco",
                    "preco",
                    "preco",
                    "preco",
                    "preco",
                    "preco",
                    "preco",
                    "preco",
                    "preco",
                    "preco",
                    "preco",
                    "preco",
                    "preco",
                    "preco",
                    "preco",
                    "preco",
                    "preco",
                    "preco",
                    "preco",
                    "preco",
                    "preco",
                    "preco",
                    "preco",
                    "preco",
                    "preco",
                    "preco",
                    "preco",
                    "preco"
                  ],
                  "x0": " ",
                  "xaxis": "x",
                  "y": [
                    94.99,
                    45.99,
                    109.99,
                    4.5,
                    27.99,
                    87.08,
                    4.5,
                    44.99,
                    8.99,
                    100,
                    9.49,
                    40,
                    90.44,
                    89.99,
                    99.99,
                    36.99,
                    159.9,
                    10.49,
                    250,
                    8.69,
                    36.99,
                    4.5,
                    50,
                    100,
                    39.99,
                    36.99,
                    69.99,
                    80,
                    27.98,
                    24.99,
                    5.79,
                    17.99,
                    129.99,
                    39.99,
                    299,
                    14.97,
                    274.99,
                    74.25,
                    72.99,
                    72.99,
                    78.02,
                    200,
                    300,
                    4.5,
                    99.99,
                    34.99,
                    24.99,
                    34.79,
                    159.9,
                    29.7,
                    300,
                    199.99,
                    36.99,
                    12.49,
                    39.99,
                    89.99,
                    89.99,
                    4.5,
                    32.99,
                    2.49,
                    41.99,
                    159,
                    139.9,
                    59.99,
                    49.99,
                    37.99,
                    36.99,
                    150,
                    17.49,
                    59.99,
                    8.09,
                    39.99,
                    12.75,
                    249.9,
                    34.99,
                    49.99,
                    28.99,
                    52.63,
                    24.99,
                    19.99,
                    119.99,
                    69.99,
                    79.99,
                    299,
                    2.19,
                    4.5,
                    30.99,
                    299,
                    5.49,
                    10.99,
                    37.99,
                    49.99,
                    249.9,
                    39.99,
                    15.99,
                    299,
                    10,
                    89.99,
                    44.99,
                    100,
                    98.99,
                    400,
                    74.99,
                    60,
                    3.5,
                    70,
                    228.99,
                    89.99,
                    259.9,
                    72.99,
                    44.99,
                    37.99,
                    20,
                    223.99,
                    36.99,
                    59.99,
                    5.23,
                    179.9,
                    49.9,
                    105,
                    72.99,
                    2.99,
                    7.99,
                    4.49,
                    239.9,
                    30.99,
                    44.99,
                    239.9,
                    47.49,
                    84.99,
                    249.99,
                    34.99,
                    59.99,
                    8.27,
                    89.99,
                    229.9,
                    129.99,
                    57.99,
                    249.99,
                    299,
                    37.99,
                    14.49,
                    149.99,
                    8.69,
                    15.99,
                    31.99,
                    99,
                    49.98,
                    59.99,
                    214.91,
                    50,
                    4.5,
                    27.99,
                    6.5,
                    37.99,
                    69.99,
                    35.99,
                    69.99,
                    93.99,
                    6.5,
                    50,
                    39.99,
                    89.9,
                    139.32,
                    15,
                    249.9,
                    72.99,
                    55.99,
                    50,
                    100,
                    37.99,
                    29.99,
                    44.99,
                    34.99,
                    149.9,
                    69.99,
                    274.99,
                    21.59,
                    37.99,
                    49.99,
                    4.5,
                    49.99,
                    149.99,
                    12.39,
                    299.99,
                    55.99,
                    399.99,
                    529.59,
                    329.99,
                    6.89,
                    179.99,
                    104.99,
                    2.29,
                    27.99,
                    46.99,
                    79.99,
                    49.99,
                    15.99,
                    20,
                    47.49,
                    75,
                    299,
                    93.99,
                    129.99,
                    26.99,
                    4.5,
                    59.99,
                    4.5,
                    54.99,
                    44.99,
                    47.49,
                    109.99,
                    11.5,
                    150,
                    50,
                    450,
                    100,
                    19.99,
                    122.16,
                    97,
                    8.99,
                    34.99,
                    10,
                    34.99,
                    15.19,
                    202.49,
                    29.99,
                    28.99,
                    59.9,
                    150,
                    74.99,
                    27.65,
                    299,
                    2.19,
                    19.99,
                    75.49,
                    161.2,
                    179,
                    129.99,
                    12.39,
                    39.95,
                    127.99,
                    89.99,
                    29.99,
                    34.99,
                    299,
                    14.97,
                    19.99,
                    13.99,
                    36.99,
                    4.19,
                    31.99,
                    18.99,
                    20.69,
                    75.49,
                    37.99,
                    7.79,
                    8.69,
                    12.19,
                    39.99,
                    159.9,
                    30,
                    299,
                    129.9,
                    169.9,
                    35,
                    8.99,
                    89.99,
                    55.99,
                    57.99,
                    27.99,
                    84.99,
                    37.99,
                    66.9,
                    129.99,
                    34.79,
                    64.95,
                    25,
                    75.98,
                    30,
                    3.73,
                    10.79,
                    37.99,
                    199.99,
                    25.99,
                    6.5,
                    299,
                    36.99,
                    2.79,
                    89.99,
                    249.99,
                    2.89,
                    47.49,
                    37.99,
                    69.95,
                    69.99,
                    229.9,
                    349.9,
                    19.98,
                    17.99,
                    169.9,
                    17.99,
                    17.99,
                    359.99,
                    8.39,
                    8.39,
                    31.99,
                    324.99,
                    46.99,
                    17.99,
                    24.99,
                    67.49,
                    13.99,
                    14.49,
                    81.99,
                    28.99,
                    49.99,
                    72.31,
                    3.69,
                    5,
                    8,
                    200,
                    129,
                    100,
                    250,
                    28.99,
                    20,
                    90.99,
                    37.99,
                    12.19,
                    299,
                    14.99,
                    74.99,
                    59.99,
                    239.9,
                    128,
                    14.99,
                    15.99,
                    4.99,
                    41.99,
                    4.49,
                    299,
                    2.19,
                    7.39,
                    219.9,
                    55.99,
                    49.99,
                    6.29,
                    160.59,
                    99.9,
                    16.59,
                    10,
                    4.49,
                    119.99,
                    28.99,
                    9,
                    124.07,
                    53.99,
                    4.49,
                    299.9,
                    169.99,
                    99.87,
                    31.99,
                    9.99,
                    17.99,
                    17.99,
                    199,
                    27.99,
                    1.62,
                    34.19,
                    59.99,
                    34.99,
                    59.99,
                    88.99,
                    22.99,
                    16.99,
                    5.99,
                    19.99,
                    55.99,
                    24.99,
                    59.99,
                    60,
                    70,
                    4.5,
                    18.49,
                    4.5,
                    12.99,
                    75.49,
                    28.99,
                    29.99,
                    217.99,
                    37.99,
                    99.49,
                    49.99,
                    28.99,
                    199.99,
                    85,
                    16.59,
                    139.9,
                    44.99,
                    109.99,
                    13.99,
                    27.99,
                    162,
                    349.99,
                    119,
                    219.9,
                    299,
                    37.99,
                    91.99,
                    12.39,
                    20.69,
                    45.99,
                    49.95,
                    134.99,
                    64.99,
                    2,
                    125,
                    8.39,
                    15.99,
                    49.97,
                    159.9,
                    89.99,
                    109.99,
                    3.5,
                    55.99,
                    32.98,
                    27.99,
                    10.89,
                    99.99,
                    249.99,
                    13.49,
                    50,
                    5.69,
                    25,
                    8.99,
                    54.99,
                    149.99,
                    8,
                    24.99,
                    11.49,
                    37.99,
                    69.99,
                    10.89,
                    115.26,
                    3.99,
                    3,
                    9.99,
                    8.99,
                    149.99,
                    1.49,
                    69,
                    73.99,
                    15.19,
                    4.49,
                    71.5,
                    45.99,
                    39.95,
                    36.99,
                    39.99,
                    199.99,
                    99.99,
                    22.49,
                    17.99,
                    29.99,
                    27.99,
                    129.9,
                    12.53,
                    3.99,
                    15,
                    90.99,
                    148.55,
                    299.9,
                    93.99,
                    6.49,
                    12.19,
                    4.49,
                    26.99,
                    25.99,
                    299,
                    75.49,
                    268.9,
                    25.34,
                    79.9,
                    15.99,
                    499.99,
                    94.49,
                    47.49,
                    28.9,
                    2.69,
                    37.99,
                    22.99,
                    4.19,
                    45.99,
                    69.99,
                    99.99,
                    20.69,
                    429.49,
                    83.99,
                    14.49,
                    20.69,
                    37.99,
                    129.9,
                    179.99,
                    129.99,
                    29.99,
                    89.99,
                    34.99,
                    37.99,
                    28.99,
                    71.99,
                    6.29,
                    4.99,
                    103.98,
                    159.9,
                    314.99,
                    100,
                    71.99,
                    99,
                    16.99,
                    139.9,
                    349.99,
                    75.49,
                    10.89,
                    8.99,
                    16.99,
                    34.99,
                    59.99,
                    10.49,
                    230.99,
                    4.49,
                    69.99,
                    294.9,
                    36.99,
                    2.89,
                    4.29,
                    44.99,
                    299.99,
                    55.99,
                    14.49,
                    57.68,
                    37.99,
                    14.49,
                    134.99,
                    15.99,
                    17.99,
                    223.99,
                    9.99,
                    168.25,
                    108.99,
                    17.99,
                    149.99,
                    19,
                    56.99,
                    19.99,
                    19.99,
                    14.99,
                    79.99,
                    4.8,
                    129.99,
                    15.98,
                    17.99,
                    82.42,
                    15.99,
                    4.49,
                    79,
                    18.59,
                    109,
                    299,
                    27.99,
                    79.99,
                    75.49,
                    37.99,
                    55.99,
                    39,
                    82.45,
                    27.99,
                    37.99,
                    69.95,
                    55.99,
                    14.49,
                    299,
                    19.99,
                    125.98,
                    15.99,
                    24.99,
                    109.99,
                    209.99,
                    18.74,
                    199,
                    47.99,
                    249.9,
                    99.99,
                    10.89,
                    4.49,
                    89.99,
                    14.99
                  ],
                  "y0": " ",
                  "yaxis": "y"
                }
              ],
              "layout": {
                "boxmode": "group",
                "legend": {
                  "tracegroupgap": 0
                },
                "margin": {
                  "t": 60
                },
                "template": {
                  "data": {
                    "bar": [
                      {
                        "error_x": {
                          "color": "#2a3f5f"
                        },
                        "error_y": {
                          "color": "#2a3f5f"
                        },
                        "marker": {
                          "line": {
                            "color": "#E5ECF6",
                            "width": 0.5
                          },
                          "pattern": {
                            "fillmode": "overlay",
                            "size": 10,
                            "solidity": 0.2
                          }
                        },
                        "type": "bar"
                      }
                    ],
                    "barpolar": [
                      {
                        "marker": {
                          "line": {
                            "color": "#E5ECF6",
                            "width": 0.5
                          },
                          "pattern": {
                            "fillmode": "overlay",
                            "size": 10,
                            "solidity": 0.2
                          }
                        },
                        "type": "barpolar"
                      }
                    ],
                    "carpet": [
                      {
                        "aaxis": {
                          "endlinecolor": "#2a3f5f",
                          "gridcolor": "white",
                          "linecolor": "white",
                          "minorgridcolor": "white",
                          "startlinecolor": "#2a3f5f"
                        },
                        "baxis": {
                          "endlinecolor": "#2a3f5f",
                          "gridcolor": "white",
                          "linecolor": "white",
                          "minorgridcolor": "white",
                          "startlinecolor": "#2a3f5f"
                        },
                        "type": "carpet"
                      }
                    ],
                    "choropleth": [
                      {
                        "colorbar": {
                          "outlinewidth": 0,
                          "ticks": ""
                        },
                        "type": "choropleth"
                      }
                    ],
                    "contour": [
                      {
                        "colorbar": {
                          "outlinewidth": 0,
                          "ticks": ""
                        },
                        "colorscale": [
                          [
                            0,
                            "#0d0887"
                          ],
                          [
                            0.1111111111111111,
                            "#46039f"
                          ],
                          [
                            0.2222222222222222,
                            "#7201a8"
                          ],
                          [
                            0.3333333333333333,
                            "#9c179e"
                          ],
                          [
                            0.4444444444444444,
                            "#bd3786"
                          ],
                          [
                            0.5555555555555556,
                            "#d8576b"
                          ],
                          [
                            0.6666666666666666,
                            "#ed7953"
                          ],
                          [
                            0.7777777777777778,
                            "#fb9f3a"
                          ],
                          [
                            0.8888888888888888,
                            "#fdca26"
                          ],
                          [
                            1,
                            "#f0f921"
                          ]
                        ],
                        "type": "contour"
                      }
                    ],
                    "contourcarpet": [
                      {
                        "colorbar": {
                          "outlinewidth": 0,
                          "ticks": ""
                        },
                        "type": "contourcarpet"
                      }
                    ],
                    "heatmap": [
                      {
                        "colorbar": {
                          "outlinewidth": 0,
                          "ticks": ""
                        },
                        "colorscale": [
                          [
                            0,
                            "#0d0887"
                          ],
                          [
                            0.1111111111111111,
                            "#46039f"
                          ],
                          [
                            0.2222222222222222,
                            "#7201a8"
                          ],
                          [
                            0.3333333333333333,
                            "#9c179e"
                          ],
                          [
                            0.4444444444444444,
                            "#bd3786"
                          ],
                          [
                            0.5555555555555556,
                            "#d8576b"
                          ],
                          [
                            0.6666666666666666,
                            "#ed7953"
                          ],
                          [
                            0.7777777777777778,
                            "#fb9f3a"
                          ],
                          [
                            0.8888888888888888,
                            "#fdca26"
                          ],
                          [
                            1,
                            "#f0f921"
                          ]
                        ],
                        "type": "heatmap"
                      }
                    ],
                    "heatmapgl": [
                      {
                        "colorbar": {
                          "outlinewidth": 0,
                          "ticks": ""
                        },
                        "colorscale": [
                          [
                            0,
                            "#0d0887"
                          ],
                          [
                            0.1111111111111111,
                            "#46039f"
                          ],
                          [
                            0.2222222222222222,
                            "#7201a8"
                          ],
                          [
                            0.3333333333333333,
                            "#9c179e"
                          ],
                          [
                            0.4444444444444444,
                            "#bd3786"
                          ],
                          [
                            0.5555555555555556,
                            "#d8576b"
                          ],
                          [
                            0.6666666666666666,
                            "#ed7953"
                          ],
                          [
                            0.7777777777777778,
                            "#fb9f3a"
                          ],
                          [
                            0.8888888888888888,
                            "#fdca26"
                          ],
                          [
                            1,
                            "#f0f921"
                          ]
                        ],
                        "type": "heatmapgl"
                      }
                    ],
                    "histogram": [
                      {
                        "marker": {
                          "pattern": {
                            "fillmode": "overlay",
                            "size": 10,
                            "solidity": 0.2
                          }
                        },
                        "type": "histogram"
                      }
                    ],
                    "histogram2d": [
                      {
                        "colorbar": {
                          "outlinewidth": 0,
                          "ticks": ""
                        },
                        "colorscale": [
                          [
                            0,
                            "#0d0887"
                          ],
                          [
                            0.1111111111111111,
                            "#46039f"
                          ],
                          [
                            0.2222222222222222,
                            "#7201a8"
                          ],
                          [
                            0.3333333333333333,
                            "#9c179e"
                          ],
                          [
                            0.4444444444444444,
                            "#bd3786"
                          ],
                          [
                            0.5555555555555556,
                            "#d8576b"
                          ],
                          [
                            0.6666666666666666,
                            "#ed7953"
                          ],
                          [
                            0.7777777777777778,
                            "#fb9f3a"
                          ],
                          [
                            0.8888888888888888,
                            "#fdca26"
                          ],
                          [
                            1,
                            "#f0f921"
                          ]
                        ],
                        "type": "histogram2d"
                      }
                    ],
                    "histogram2dcontour": [
                      {
                        "colorbar": {
                          "outlinewidth": 0,
                          "ticks": ""
                        },
                        "colorscale": [
                          [
                            0,
                            "#0d0887"
                          ],
                          [
                            0.1111111111111111,
                            "#46039f"
                          ],
                          [
                            0.2222222222222222,
                            "#7201a8"
                          ],
                          [
                            0.3333333333333333,
                            "#9c179e"
                          ],
                          [
                            0.4444444444444444,
                            "#bd3786"
                          ],
                          [
                            0.5555555555555556,
                            "#d8576b"
                          ],
                          [
                            0.6666666666666666,
                            "#ed7953"
                          ],
                          [
                            0.7777777777777778,
                            "#fb9f3a"
                          ],
                          [
                            0.8888888888888888,
                            "#fdca26"
                          ],
                          [
                            1,
                            "#f0f921"
                          ]
                        ],
                        "type": "histogram2dcontour"
                      }
                    ],
                    "mesh3d": [
                      {
                        "colorbar": {
                          "outlinewidth": 0,
                          "ticks": ""
                        },
                        "type": "mesh3d"
                      }
                    ],
                    "parcoords": [
                      {
                        "line": {
                          "colorbar": {
                            "outlinewidth": 0,
                            "ticks": ""
                          }
                        },
                        "type": "parcoords"
                      }
                    ],
                    "pie": [
                      {
                        "automargin": true,
                        "type": "pie"
                      }
                    ],
                    "scatter": [
                      {
                        "fillpattern": {
                          "fillmode": "overlay",
                          "size": 10,
                          "solidity": 0.2
                        },
                        "type": "scatter"
                      }
                    ],
                    "scatter3d": [
                      {
                        "line": {
                          "colorbar": {
                            "outlinewidth": 0,
                            "ticks": ""
                          }
                        },
                        "marker": {
                          "colorbar": {
                            "outlinewidth": 0,
                            "ticks": ""
                          }
                        },
                        "type": "scatter3d"
                      }
                    ],
                    "scattercarpet": [
                      {
                        "marker": {
                          "colorbar": {
                            "outlinewidth": 0,
                            "ticks": ""
                          }
                        },
                        "type": "scattercarpet"
                      }
                    ],
                    "scattergeo": [
                      {
                        "marker": {
                          "colorbar": {
                            "outlinewidth": 0,
                            "ticks": ""
                          }
                        },
                        "type": "scattergeo"
                      }
                    ],
                    "scattergl": [
                      {
                        "marker": {
                          "colorbar": {
                            "outlinewidth": 0,
                            "ticks": ""
                          }
                        },
                        "type": "scattergl"
                      }
                    ],
                    "scattermapbox": [
                      {
                        "marker": {
                          "colorbar": {
                            "outlinewidth": 0,
                            "ticks": ""
                          }
                        },
                        "type": "scattermapbox"
                      }
                    ],
                    "scatterpolar": [
                      {
                        "marker": {
                          "colorbar": {
                            "outlinewidth": 0,
                            "ticks": ""
                          }
                        },
                        "type": "scatterpolar"
                      }
                    ],
                    "scatterpolargl": [
                      {
                        "marker": {
                          "colorbar": {
                            "outlinewidth": 0,
                            "ticks": ""
                          }
                        },
                        "type": "scatterpolargl"
                      }
                    ],
                    "scatterternary": [
                      {
                        "marker": {
                          "colorbar": {
                            "outlinewidth": 0,
                            "ticks": ""
                          }
                        },
                        "type": "scatterternary"
                      }
                    ],
                    "surface": [
                      {
                        "colorbar": {
                          "outlinewidth": 0,
                          "ticks": ""
                        },
                        "colorscale": [
                          [
                            0,
                            "#0d0887"
                          ],
                          [
                            0.1111111111111111,
                            "#46039f"
                          ],
                          [
                            0.2222222222222222,
                            "#7201a8"
                          ],
                          [
                            0.3333333333333333,
                            "#9c179e"
                          ],
                          [
                            0.4444444444444444,
                            "#bd3786"
                          ],
                          [
                            0.5555555555555556,
                            "#d8576b"
                          ],
                          [
                            0.6666666666666666,
                            "#ed7953"
                          ],
                          [
                            0.7777777777777778,
                            "#fb9f3a"
                          ],
                          [
                            0.8888888888888888,
                            "#fdca26"
                          ],
                          [
                            1,
                            "#f0f921"
                          ]
                        ],
                        "type": "surface"
                      }
                    ],
                    "table": [
                      {
                        "cells": {
                          "fill": {
                            "color": "#EBF0F8"
                          },
                          "line": {
                            "color": "white"
                          }
                        },
                        "header": {
                          "fill": {
                            "color": "#C8D4E3"
                          },
                          "line": {
                            "color": "white"
                          }
                        },
                        "type": "table"
                      }
                    ]
                  },
                  "layout": {
                    "annotationdefaults": {
                      "arrowcolor": "#2a3f5f",
                      "arrowhead": 0,
                      "arrowwidth": 1
                    },
                    "autotypenumbers": "strict",
                    "coloraxis": {
                      "colorbar": {
                        "outlinewidth": 0,
                        "ticks": ""
                      }
                    },
                    "colorscale": {
                      "diverging": [
                        [
                          0,
                          "#8e0152"
                        ],
                        [
                          0.1,
                          "#c51b7d"
                        ],
                        [
                          0.2,
                          "#de77ae"
                        ],
                        [
                          0.3,
                          "#f1b6da"
                        ],
                        [
                          0.4,
                          "#fde0ef"
                        ],
                        [
                          0.5,
                          "#f7f7f7"
                        ],
                        [
                          0.6,
                          "#e6f5d0"
                        ],
                        [
                          0.7,
                          "#b8e186"
                        ],
                        [
                          0.8,
                          "#7fbc41"
                        ],
                        [
                          0.9,
                          "#4d9221"
                        ],
                        [
                          1,
                          "#276419"
                        ]
                      ],
                      "sequential": [
                        [
                          0,
                          "#0d0887"
                        ],
                        [
                          0.1111111111111111,
                          "#46039f"
                        ],
                        [
                          0.2222222222222222,
                          "#7201a8"
                        ],
                        [
                          0.3333333333333333,
                          "#9c179e"
                        ],
                        [
                          0.4444444444444444,
                          "#bd3786"
                        ],
                        [
                          0.5555555555555556,
                          "#d8576b"
                        ],
                        [
                          0.6666666666666666,
                          "#ed7953"
                        ],
                        [
                          0.7777777777777778,
                          "#fb9f3a"
                        ],
                        [
                          0.8888888888888888,
                          "#fdca26"
                        ],
                        [
                          1,
                          "#f0f921"
                        ]
                      ],
                      "sequentialminus": [
                        [
                          0,
                          "#0d0887"
                        ],
                        [
                          0.1111111111111111,
                          "#46039f"
                        ],
                        [
                          0.2222222222222222,
                          "#7201a8"
                        ],
                        [
                          0.3333333333333333,
                          "#9c179e"
                        ],
                        [
                          0.4444444444444444,
                          "#bd3786"
                        ],
                        [
                          0.5555555555555556,
                          "#d8576b"
                        ],
                        [
                          0.6666666666666666,
                          "#ed7953"
                        ],
                        [
                          0.7777777777777778,
                          "#fb9f3a"
                        ],
                        [
                          0.8888888888888888,
                          "#fdca26"
                        ],
                        [
                          1,
                          "#f0f921"
                        ]
                      ]
                    },
                    "colorway": [
                      "#636efa",
                      "#EF553B",
                      "#00cc96",
                      "#ab63fa",
                      "#FFA15A",
                      "#19d3f3",
                      "#FF6692",
                      "#B6E880",
                      "#FF97FF",
                      "#FECB52"
                    ],
                    "font": {
                      "color": "#2a3f5f"
                    },
                    "geo": {
                      "bgcolor": "white",
                      "lakecolor": "white",
                      "landcolor": "#E5ECF6",
                      "showlakes": true,
                      "showland": true,
                      "subunitcolor": "white"
                    },
                    "hoverlabel": {
                      "align": "left"
                    },
                    "hovermode": "closest",
                    "mapbox": {
                      "style": "light"
                    },
                    "paper_bgcolor": "white",
                    "plot_bgcolor": "#E5ECF6",
                    "polar": {
                      "angularaxis": {
                        "gridcolor": "white",
                        "linecolor": "white",
                        "ticks": ""
                      },
                      "bgcolor": "#E5ECF6",
                      "radialaxis": {
                        "gridcolor": "white",
                        "linecolor": "white",
                        "ticks": ""
                      }
                    },
                    "scene": {
                      "xaxis": {
                        "backgroundcolor": "#E5ECF6",
                        "gridcolor": "white",
                        "gridwidth": 2,
                        "linecolor": "white",
                        "showbackground": true,
                        "ticks": "",
                        "zerolinecolor": "white"
                      },
                      "yaxis": {
                        "backgroundcolor": "#E5ECF6",
                        "gridcolor": "white",
                        "gridwidth": 2,
                        "linecolor": "white",
                        "showbackground": true,
                        "ticks": "",
                        "zerolinecolor": "white"
                      },
                      "zaxis": {
                        "backgroundcolor": "#E5ECF6",
                        "gridcolor": "white",
                        "gridwidth": 2,
                        "linecolor": "white",
                        "showbackground": true,
                        "ticks": "",
                        "zerolinecolor": "white"
                      }
                    },
                    "shapedefaults": {
                      "line": {
                        "color": "#2a3f5f"
                      }
                    },
                    "ternary": {
                      "aaxis": {
                        "gridcolor": "white",
                        "linecolor": "white",
                        "ticks": ""
                      },
                      "baxis": {
                        "gridcolor": "white",
                        "linecolor": "white",
                        "ticks": ""
                      },
                      "bgcolor": "#E5ECF6",
                      "caxis": {
                        "gridcolor": "white",
                        "linecolor": "white",
                        "ticks": ""
                      }
                    },
                    "title": {
                      "x": 0.05
                    },
                    "xaxis": {
                      "automargin": true,
                      "gridcolor": "white",
                      "linecolor": "white",
                      "ticks": "",
                      "title": {
                        "standoff": 15
                      },
                      "zerolinecolor": "white",
                      "zerolinewidth": 2
                    },
                    "yaxis": {
                      "automargin": true,
                      "gridcolor": "white",
                      "linecolor": "white",
                      "ticks": "",
                      "title": {
                        "standoff": 15
                      },
                      "zerolinecolor": "white",
                      "zerolinewidth": 2
                    }
                  }
                },
                "xaxis": {
                  "anchor": "y",
                  "domain": [
                    0,
                    1
                  ],
                  "title": {
                    "text": "variable"
                  }
                },
                "yaxis": {
                  "anchor": "x",
                  "domain": [
                    0,
                    1
                  ],
                  "title": {
                    "text": "value"
                  }
                }
              }
            }
          },
          "metadata": {},
          "output_type": "display_data"
        }
      ],
      "source": [
        "px.box(dados.preco)"
      ]
    },
    {
      "attachments": {},
      "cell_type": "markdown",
      "metadata": {},
      "source": [
        "## Salvar base de dados tratadas"
      ]
    },
    {
      "cell_type": "code",
      "execution_count": 25,
      "metadata": {},
      "outputs": [],
      "source": [
        "dados.to_csv(\"../2_bases_tratadas/base_tratada.csv\", index=True)"
      ]
    }
  ],
  "metadata": {
    "colab": {
      "provenance": []
    },
    "kernelspec": {
      "display_name": "Python 3.9.0 64-bit",
      "language": "python",
      "name": "python3"
    },
    "language_info": {
      "codemirror_mode": {
        "name": "ipython",
        "version": 3
      },
      "file_extension": ".py",
      "mimetype": "text/x-python",
      "name": "python",
      "nbconvert_exporter": "python",
      "pygments_lexer": "ipython3",
      "version": "3.11.0"
    },
    "orig_nbformat": 4,
    "vscode": {
      "interpreter": {
        "hash": "9b16fe64e235b62e0f32637134c1c3ea29b3eadaef70f7339a05a72ed13b4b69"
      }
    }
  },
  "nbformat": 4,
  "nbformat_minor": 0
}
